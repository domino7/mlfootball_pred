{
 "cells": [
  {
   "cell_type": "markdown",
   "metadata": {},
   "source": [
    "# Predictions based on first vector - v1"
   ]
  },
  {
   "cell_type": "code",
   "execution_count": 1,
   "metadata": {},
   "outputs": [],
   "source": [
    "import pandas as pd\n",
    "from sklearn import model_selection\n",
    "from sklearn import preprocessing\n",
    "from sklearn.linear_model import LogisticRegression\n",
    "from sklearn.tree import DecisionTreeClassifier\n",
    "from sklearn.neighbors import KNeighborsClassifier\n",
    "from sklearn.discriminant_analysis import LinearDiscriminantAnalysis\n",
    "from sklearn.naive_bayes import GaussianNB\n",
    "from sklearn.svm import SVC\n",
    "import matplotlib.pyplot as plt\n"
   ]
  },
  {
   "cell_type": "markdown",
   "metadata": {},
   "source": [
    "## Features:\n",
    "\n",
    "* B365H\n",
    "* B365D\n",
    "* B365A\n",
    "\n",
    "* buildUpPlaySpeed\n",
    "* buildUpPlayPassing\n",
    "* chanceCreationShooting\n",
    "* defencePressure\n",
    "* buildUpPlayDribbling\n",
    "* chanceCreationPassing\n",
    "* chanceCreationCrossing\n",
    "* defenceAggression\n",
    "* defenceTeamWidth\n"
   ]
  },
  {
   "cell_type": "code",
   "execution_count": 2,
   "metadata": {},
   "outputs": [
    {
     "name": "stdout",
     "output_type": "stream",
     "text": [
      "(6080, 26)\n"
     ]
    }
   ],
   "source": [
    "model_data = pd.read_csv('learning_vectors/v01/version01-bet365FIFA.csv', sep=',')\n",
    "model_data = model_data.set_index(['Match_id'])\n",
    "\n",
    "model_data = model_data.sort_values(['League_id', 'Date'])\n",
    "model_data.columns = ['League_id', 'Season', 'Stage', 'Date', 'H_team', 'A_team', 'Result',\n",
    "                      'B365H', 'B365D', 'B365A',\n",
    "                      'H_Speed', 'H_Pass', 'H_Shoot', 'H_Pressure', 'H_chPass', 'H_chCross', 'H_dAggr', 'H_dWidth',\n",
    "                      'A_Speed', 'A_Pass', 'A_Shoot', 'A_Pressure', 'A_chPass', 'A_chCross', 'A_dAggr', 'A_dWidth']\n",
    "\n",
    "print(model_data.shape)\n",
    "# model_data.head()\n"
   ]
  },
  {
   "cell_type": "code",
   "execution_count": 3,
   "metadata": {
    "scrolled": true
   },
   "outputs": [
    {
     "name": "stdout",
     "output_type": "stream",
     "text": [
      "False\n"
     ]
    }
   ],
   "source": [
    "#Check for nulls in data\n",
    "model_data.isnull().sum()\n",
    "print(model_data.isnull().any().any())\n"
   ]
  },
  {
   "cell_type": "markdown",
   "metadata": {},
   "source": [
    "## Different algorithms comparison:"
   ]
  },
  {
   "cell_type": "code",
   "execution_count": 4,
   "metadata": {},
   "outputs": [
    {
     "name": "stdout",
     "output_type": "stream",
     "text": [
      "(6080, 19)\n"
     ]
    },
    {
     "data": {
      "text/html": [
       "<div>\n",
       "<style>\n",
       "    .dataframe thead tr:only-child th {\n",
       "        text-align: right;\n",
       "    }\n",
       "\n",
       "    .dataframe thead th {\n",
       "        text-align: left;\n",
       "    }\n",
       "\n",
       "    .dataframe tbody tr th {\n",
       "        vertical-align: top;\n",
       "    }\n",
       "</style>\n",
       "<table border=\"1\" class=\"dataframe\">\n",
       "  <thead>\n",
       "    <tr style=\"text-align: right;\">\n",
       "      <th></th>\n",
       "      <th>B365H</th>\n",
       "      <th>B365D</th>\n",
       "      <th>B365A</th>\n",
       "      <th>H_Speed</th>\n",
       "      <th>H_Pass</th>\n",
       "      <th>H_Shoot</th>\n",
       "      <th>H_Pressure</th>\n",
       "      <th>H_chPass</th>\n",
       "      <th>H_chCross</th>\n",
       "      <th>H_dAggr</th>\n",
       "      <th>H_dWidth</th>\n",
       "      <th>A_Speed</th>\n",
       "      <th>A_Pass</th>\n",
       "      <th>A_Shoot</th>\n",
       "      <th>A_Pressure</th>\n",
       "      <th>A_chPass</th>\n",
       "      <th>A_chCross</th>\n",
       "      <th>A_dAggr</th>\n",
       "      <th>A_dWidth</th>\n",
       "    </tr>\n",
       "    <tr>\n",
       "      <th>Match_id</th>\n",
       "      <th></th>\n",
       "      <th></th>\n",
       "      <th></th>\n",
       "      <th></th>\n",
       "      <th></th>\n",
       "      <th></th>\n",
       "      <th></th>\n",
       "      <th></th>\n",
       "      <th></th>\n",
       "      <th></th>\n",
       "      <th></th>\n",
       "      <th></th>\n",
       "      <th></th>\n",
       "      <th></th>\n",
       "      <th></th>\n",
       "      <th></th>\n",
       "      <th></th>\n",
       "      <th></th>\n",
       "      <th></th>\n",
       "    </tr>\n",
       "  </thead>\n",
       "  <tbody>\n",
       "    <tr>\n",
       "      <th>1730</th>\n",
       "      <td>1.20</td>\n",
       "      <td>6.5</td>\n",
       "      <td>15.00</td>\n",
       "      <td>66</td>\n",
       "      <td>30</td>\n",
       "      <td>35</td>\n",
       "      <td>30</td>\n",
       "      <td>30</td>\n",
       "      <td>45</td>\n",
       "      <td>40</td>\n",
       "      <td>50</td>\n",
       "      <td>65</td>\n",
       "      <td>40</td>\n",
       "      <td>55</td>\n",
       "      <td>70</td>\n",
       "      <td>70</td>\n",
       "      <td>70</td>\n",
       "      <td>70</td>\n",
       "      <td>70</td>\n",
       "    </tr>\n",
       "    <tr>\n",
       "      <th>1731</th>\n",
       "      <td>5.50</td>\n",
       "      <td>3.6</td>\n",
       "      <td>1.67</td>\n",
       "      <td>60</td>\n",
       "      <td>70</td>\n",
       "      <td>55</td>\n",
       "      <td>35</td>\n",
       "      <td>70</td>\n",
       "      <td>70</td>\n",
       "      <td>70</td>\n",
       "      <td>35</td>\n",
       "      <td>50</td>\n",
       "      <td>35</td>\n",
       "      <td>70</td>\n",
       "      <td>40</td>\n",
       "      <td>50</td>\n",
       "      <td>60</td>\n",
       "      <td>60</td>\n",
       "      <td>40</td>\n",
       "    </tr>\n",
       "    <tr>\n",
       "      <th>1732</th>\n",
       "      <td>1.91</td>\n",
       "      <td>3.4</td>\n",
       "      <td>4.20</td>\n",
       "      <td>58</td>\n",
       "      <td>30</td>\n",
       "      <td>50</td>\n",
       "      <td>30</td>\n",
       "      <td>31</td>\n",
       "      <td>70</td>\n",
       "      <td>70</td>\n",
       "      <td>30</td>\n",
       "      <td>70</td>\n",
       "      <td>70</td>\n",
       "      <td>50</td>\n",
       "      <td>35</td>\n",
       "      <td>70</td>\n",
       "      <td>70</td>\n",
       "      <td>70</td>\n",
       "      <td>35</td>\n",
       "    </tr>\n",
       "    <tr>\n",
       "      <th>1734</th>\n",
       "      <td>2.00</td>\n",
       "      <td>3.3</td>\n",
       "      <td>4.00</td>\n",
       "      <td>60</td>\n",
       "      <td>65</td>\n",
       "      <td>45</td>\n",
       "      <td>40</td>\n",
       "      <td>60</td>\n",
       "      <td>70</td>\n",
       "      <td>70</td>\n",
       "      <td>40</td>\n",
       "      <td>55</td>\n",
       "      <td>70</td>\n",
       "      <td>55</td>\n",
       "      <td>45</td>\n",
       "      <td>60</td>\n",
       "      <td>70</td>\n",
       "      <td>70</td>\n",
       "      <td>45</td>\n",
       "    </tr>\n",
       "    <tr>\n",
       "      <th>1735</th>\n",
       "      <td>3.20</td>\n",
       "      <td>3.4</td>\n",
       "      <td>2.25</td>\n",
       "      <td>70</td>\n",
       "      <td>70</td>\n",
       "      <td>50</td>\n",
       "      <td>30</td>\n",
       "      <td>70</td>\n",
       "      <td>70</td>\n",
       "      <td>70</td>\n",
       "      <td>30</td>\n",
       "      <td>70</td>\n",
       "      <td>50</td>\n",
       "      <td>50</td>\n",
       "      <td>50</td>\n",
       "      <td>50</td>\n",
       "      <td>65</td>\n",
       "      <td>50</td>\n",
       "      <td>50</td>\n",
       "    </tr>\n",
       "  </tbody>\n",
       "</table>\n",
       "</div>"
      ],
      "text/plain": [
       "          B365H  B365D  B365A  H_Speed  H_Pass  H_Shoot  H_Pressure  H_chPass  \\\n",
       "Match_id                                                                        \n",
       "1730       1.20    6.5  15.00       66      30       35          30        30   \n",
       "1731       5.50    3.6   1.67       60      70       55          35        70   \n",
       "1732       1.91    3.4   4.20       58      30       50          30        31   \n",
       "1734       2.00    3.3   4.00       60      65       45          40        60   \n",
       "1735       3.20    3.4   2.25       70      70       50          30        70   \n",
       "\n",
       "          H_chCross  H_dAggr  H_dWidth  A_Speed  A_Pass  A_Shoot  A_Pressure  \\\n",
       "Match_id                                                                       \n",
       "1730             45       40        50       65      40       55          70   \n",
       "1731             70       70        35       50      35       70          40   \n",
       "1732             70       70        30       70      70       50          35   \n",
       "1734             70       70        40       55      70       55          45   \n",
       "1735             70       70        30       70      50       50          50   \n",
       "\n",
       "          A_chPass  A_chCross  A_dAggr  A_dWidth  \n",
       "Match_id                                          \n",
       "1730            70         70       70        70  \n",
       "1731            50         60       60        40  \n",
       "1732            70         70       70        35  \n",
       "1734            60         70       70        45  \n",
       "1735            50         65       50        50  "
      ]
     },
     "execution_count": 4,
     "metadata": {},
     "output_type": "execute_result"
    }
   ],
   "source": [
    "features = ['B365H', 'B365D', 'B365A',\n",
    "            'H_Speed', 'H_Pass', 'H_Shoot', 'H_Pressure', 'H_chPass', 'H_chCross', 'H_dAggr', 'H_dWidth',\n",
    "            'A_Speed', 'A_Pass', 'A_Shoot', 'A_Pressure', 'A_chPass', 'A_chCross', 'A_dAggr', 'A_dWidth']\n",
    "\n",
    "ALGS = [\n",
    "    ('LR', LogisticRegression()),\n",
    "    ('LDA', LinearDiscriminantAnalysis()),\n",
    "    ('KNN', KNeighborsClassifier()),\n",
    "    ('CART', DecisionTreeClassifier()),\n",
    "    ('NB', GaussianNB()),\n",
    "    ('SVM', SVC())\n",
    "]\n",
    "\n",
    "print(model_data[features].shape)\n",
    "model_data[features].head()\n"
   ]
  },
  {
   "cell_type": "markdown",
   "metadata": {},
   "source": [
    "### Basic comparison:"
   ]
  },
  {
   "cell_type": "code",
   "execution_count": 5,
   "metadata": {},
   "outputs": [
    {
     "name": "stdout",
     "output_type": "stream",
     "text": [
      "Alg/res.mean/res.std\n",
      "LR: 0.543750 (0.011324)\n",
      "LDA: 0.537664 (0.015375)\n",
      "KNN: 0.461184 (0.005602)\n",
      "CART: 0.436513 (0.011476)\n",
      "NB: 0.450987 (0.008483)\n",
      "SVM: 0.472204 (0.012311)\n"
     ]
    },
    {
     "data": {
      "image/png": "[encoded data removed]",
      "text/plain": [
       "<matplotlib.figure.Figure at 0x10ee4b6d0>"
      ]
     },
     "metadata": {},
     "output_type": "display_data"
    }
   ],
   "source": [
    "X = model_data[features]\n",
    "y = model_data['Result']\n",
    "\n",
    "results = []\n",
    "names = []\n",
    "print (\"Alg/res.mean/res.std\")\n",
    "for name, model in ALGS:\n",
    "    cross_validator = model_selection.KFold(n_splits=4, shuffle=True)\n",
    "    res = model_selection.cross_val_score(model, X, y,\n",
    "                                          cv=cross_validator,\n",
    "                                          scoring='accuracy')\n",
    "    results.append(res)\n",
    "    names.append(name)\n",
    "    info = \"%s: %f (%f)\" % (name, res.mean(), res.std())\n",
    "    print(info)\n",
    "\n",
    "fig = plt.figure()\n",
    "fig.suptitle('different algorithms comparison')\n",
    "ax = fig.add_subplot(111)\n",
    "plt.boxplot(results)\n",
    "ax.set_xticklabels(names)\n",
    "plt.show()\n"
   ]
  },
  {
   "cell_type": "markdown",
   "metadata": {},
   "source": [
    "### Basic comparison with preprocessing:"
   ]
  },
  {
   "cell_type": "code",
   "execution_count": 6,
   "metadata": {},
   "outputs": [
    {
     "name": "stdout",
     "output_type": "stream",
     "text": [
      "Alg/res.mean/res.std\n",
      "LR: 0.543421 (0.005405)\n",
      "LDA: 0.537336 (0.008481)\n",
      "KNN: 0.473026 (0.007101)\n",
      "CART: 0.436513 (0.012938)\n",
      "NB: 0.449836 (0.011313)\n",
      "SVM: 0.537336 (0.008831)\n"
     ]
    },
    {
     "data": {
      "image/png": "[encoded data removed]",
      "text/plain": [
       "<matplotlib.figure.Figure at 0x10f5a3690>"
      ]
     },
     "metadata": {},
     "output_type": "display_data"
    }
   ],
   "source": [
    "X = preprocessing.scale(model_data[features])\n",
    "y = model_data['Result']\n",
    "\n",
    "results = []\n",
    "names = []\n",
    "print (\"Alg/res.mean/res.std\")\n",
    "for name, model in ALGS:\n",
    "    cross_validator = model_selection.KFold(n_splits=4, shuffle=True)\n",
    "    res = model_selection.cross_val_score(model, X, y,\n",
    "                                          cv=cross_validator,\n",
    "                                          scoring='accuracy')\n",
    "    results.append(res)\n",
    "    names.append(name)\n",
    "    info = \"%s: %f (%f)\" % (name, res.mean(), res.std())\n",
    "    print(info)\n",
    "\n",
    "fig = plt.figure()\n",
    "fig.suptitle('different algorithms comparison')\n",
    "ax = fig.add_subplot(111)\n",
    "plt.boxplot(results)\n",
    "ax.set_xticklabels(names)\n",
    "plt.show()\n"
   ]
  },
  {
   "cell_type": "markdown",
   "metadata": {},
   "source": [
    "## Other model comparisons:"
   ]
  },
  {
   "cell_type": "code",
   "execution_count": 7,
   "metadata": {},
   "outputs": [
    {
     "name": "stdout",
     "output_type": "stream",
     "text": [
      "Alg/res.mean/res.std\n",
      "LR: 0.545230 (0.018382)\n",
      "LDA: 0.539145 (0.004474)\n",
      "KNN: 0.489309 (0.011342)\n",
      "CART: 0.489803 (0.009169)\n",
      "NB: 0.428125 (0.012311)\n",
      "SVM: 0.545066 (0.010825)\n"
     ]
    },
    {
     "data": {
      "image/png": "[encoded data removed]",
      "text/plain": [
       "<matplotlib.figure.Figure at 0x10f19db90>"
      ]
     },
     "metadata": {},
     "output_type": "display_data"
    }
   ],
   "source": [
    "features_B365 = ['B365H', 'B365D', 'B365A']\n",
    "\n",
    "X = model_data[features_B365]\n",
    "y = model_data['Result']\n",
    "\n",
    "results = []\n",
    "names = []\n",
    "print (\"Alg/res.mean/res.std\")\n",
    "for name, model in ALGS:\n",
    "    cross_validator = model_selection.KFold(n_splits=4, shuffle=True)\n",
    "    res = model_selection.cross_val_score(model, X, y,\n",
    "                                          cv=cross_validator,\n",
    "                                          scoring='accuracy')\n",
    "    results.append(res)\n",
    "    names.append(name)\n",
    "    info = \"%s: %f (%f)\" % (name, res.mean(), res.std())\n",
    "    print(info)\n",
    "\n",
    "fig = plt.figure()\n",
    "fig.suptitle('different algorithms comparison')\n",
    "ax = fig.add_subplot(111)\n",
    "plt.boxplot(results)\n",
    "ax.set_xticklabels(names)\n",
    "plt.show()\n"
   ]
  },
  {
   "cell_type": "code",
   "execution_count": 8,
   "metadata": {},
   "outputs": [
    {
     "name": "stdout",
     "output_type": "stream",
     "text": [
      "Alg/res.mean/res.std\n",
      "LR: 0.481414 (0.008843)\n",
      "LDA: 0.483059 (0.011484)\n",
      "KNN: 0.462993 (0.016833)\n",
      "CART: 0.423849 (0.010520)\n",
      "NB: 0.472533 (0.008156)\n",
      "SVM: 0.467105 (0.007854)\n"
     ]
    },
    {
     "data": {
      "image/png": "[encoded data removed]",
      "text/plain": [
       "<matplotlib.figure.Figure at 0x10a019e90>"
      ]
     },
     "metadata": {},
     "output_type": "display_data"
    }
   ],
   "source": [
    "features_noB365 = ['H_Speed', 'H_Pass', 'H_Shoot', 'H_Pressure', 'H_chPass', 'H_chCross', 'H_dAggr', 'H_dWidth',\n",
    "                   'A_Speed', 'A_Pass', 'A_Shoot', 'A_Pressure', 'A_chPass', 'A_chCross', 'A_dAggr', 'A_dWidth']\n",
    "\n",
    "X = model_data[features_noB365]\n",
    "y = model_data['Result']\n",
    "\n",
    "results = []\n",
    "names = []\n",
    "print (\"Alg/res.mean/res.std\")\n",
    "for name, model in ALGS:\n",
    "    cross_validator = model_selection.KFold(n_splits=4, shuffle=True)\n",
    "    res = model_selection.cross_val_score(model, X, y,\n",
    "                                          cv=cross_validator,\n",
    "                                          scoring='accuracy')\n",
    "    results.append(res)\n",
    "    names.append(name)\n",
    "    info = \"%s: %f (%f)\" % (name, res.mean(), res.std())\n",
    "    print(info)\n",
    "\n",
    "fig = plt.figure()\n",
    "fig.suptitle('different algorithms comparison')\n",
    "ax = fig.add_subplot(111)\n",
    "plt.boxplot(results)\n",
    "ax.set_xticklabels(names)\n",
    "plt.show()\n"
   ]
  }
 ],
 "metadata": {
  "kernelspec": {
   "display_name": "Python 2",
   "language": "python",
   "name": "python2"
  },
  "language_info": {
   "codemirror_mode": {
    "name": "ipython",
    "version": 2
   },
   "file_extension": ".py",
   "mimetype": "text/x-python",
   "name": "python",
   "nbconvert_exporter": "python",
   "pygments_lexer": "ipython2",
   "version": "2.7.10"
  }
 },
 "nbformat": 4,
 "nbformat_minor": 2
}
