{
 "cells": [
  {
   "cell_type": "markdown",
   "metadata": {},
   "source": [
    "# Predictions based on first vector - v1"
   ]
  },
  {
   "cell_type": "code",
   "execution_count": 1,
   "metadata": {},
   "outputs": [],
   "source": [
    "import pandas as pd\n",
    "from sklearn import model_selection\n",
    "from sklearn import preprocessing\n",
    "from sklearn.linear_model import LogisticRegression\n",
    "from sklearn.tree import DecisionTreeClassifier\n",
    "from sklearn.neighbors import KNeighborsClassifier\n",
    "from sklearn.discriminant_analysis import LinearDiscriminantAnalysis\n",
    "from sklearn.naive_bayes import GaussianNB\n",
    "from sklearn.svm import SVC\n",
    "import matplotlib.pyplot as plt\n"
   ]
  },
  {
   "cell_type": "markdown",
   "metadata": {},
   "source": [
    "## Features:\n",
    "\n",
    "* B365H\n",
    "* B365D\n",
    "* B365A\n",
    "\n",
    "* buildUpPlaySpeed\n",
    "* buildUpPlayPassing\n",
    "* chanceCreationShooting\n",
    "* defencePressure\n",
    "* buildUpPlayDribbling\n",
    "* chanceCreationPassing\n",
    "* chanceCreationCrossing\n",
    "* defenceAggression\n",
    "* defenceTeamWidth\n"
   ]
  },
  {
   "cell_type": "code",
   "execution_count": 2,
   "metadata": {},
   "outputs": [
    {
     "name": "stdout",
     "output_type": "stream",
     "text": [
      "(6080, 27)\n"
     ]
    }
   ],
   "source": [
    "model_data = pd.read_csv('learning_vectors/v01/version01-bet365FIFA.csv', sep=',')\n",
    "# model_data = model_data.set_index(['Match_id'])\n",
    "\n",
    "# model_data = model_data.sort_values(['League_id', 'Date'])\n",
    "# model_data.columns = ['League_id', 'Season', 'Stage', 'Date', 'H_team', 'A_team', 'Result',\n",
    "#                       'B365H', 'B365D', 'B365A',\n",
    "#                       'H_Speed', 'H_Pass', 'H_Shoot', 'H_Pressure', 'H_chPass', 'H_chCross', 'H_dAggr', 'H_dWidth',\n",
    "#                       'A_Speed', 'A_Pass', 'A_Shoot', 'A_Pressure', 'A_chPass', 'A_chCross', 'A_dAggr', 'A_dWidth']\n",
    "\n",
    "print(model_data.shape)\n",
    "# model_data.head()\n"
   ]
  },
  {
   "cell_type": "code",
   "execution_count": 3,
   "metadata": {
    "scrolled": true
   },
   "outputs": [
    {
     "name": "stdout",
     "output_type": "stream",
     "text": [
      "False\n"
     ]
    }
   ],
   "source": [
    "#Check for nulls in data\n",
    "model_data.isnull().sum()\n",
    "print(model_data.isnull().any().any())\n"
   ]
  },
  {
   "cell_type": "markdown",
   "metadata": {},
   "source": [
    "## Different algorithms comparison:"
   ]
  },
  {
   "cell_type": "code",
   "execution_count": 4,
   "metadata": {},
   "outputs": [
    {
     "name": "stdout",
     "output_type": "stream",
     "text": [
      "(6080, 19)\n"
     ]
    },
    {
     "data": {
      "text/html": [
       "<div>\n",
       "<style>\n",
       "    .dataframe thead tr:only-child th {\n",
       "        text-align: right;\n",
       "    }\n",
       "\n",
       "    .dataframe thead th {\n",
       "        text-align: left;\n",
       "    }\n",
       "\n",
       "    .dataframe tbody tr th {\n",
       "        vertical-align: top;\n",
       "    }\n",
       "</style>\n",
       "<table border=\"1\" class=\"dataframe\">\n",
       "  <thead>\n",
       "    <tr style=\"text-align: right;\">\n",
       "      <th></th>\n",
       "      <th>B365H</th>\n",
       "      <th>B365D</th>\n",
       "      <th>B365A</th>\n",
       "      <th>H_Speed</th>\n",
       "      <th>H_Pass</th>\n",
       "      <th>H_Shoot</th>\n",
       "      <th>H_Pressure</th>\n",
       "      <th>H_chPass</th>\n",
       "      <th>H_chCross</th>\n",
       "      <th>H_dAggr</th>\n",
       "      <th>H_dWidth</th>\n",
       "      <th>A_Speed</th>\n",
       "      <th>A_Pass</th>\n",
       "      <th>A_Shoot</th>\n",
       "      <th>A_Pressure</th>\n",
       "      <th>A_chPass</th>\n",
       "      <th>A_chCross</th>\n",
       "      <th>A_dAggr</th>\n",
       "      <th>A_dWidth</th>\n",
       "    </tr>\n",
       "  </thead>\n",
       "  <tbody>\n",
       "    <tr>\n",
       "      <th>0</th>\n",
       "      <td>1.20</td>\n",
       "      <td>6.5</td>\n",
       "      <td>15.00</td>\n",
       "      <td>66</td>\n",
       "      <td>30</td>\n",
       "      <td>35</td>\n",
       "      <td>30</td>\n",
       "      <td>30</td>\n",
       "      <td>45</td>\n",
       "      <td>40</td>\n",
       "      <td>50</td>\n",
       "      <td>65</td>\n",
       "      <td>40</td>\n",
       "      <td>55</td>\n",
       "      <td>70</td>\n",
       "      <td>70</td>\n",
       "      <td>70</td>\n",
       "      <td>70</td>\n",
       "      <td>70</td>\n",
       "    </tr>\n",
       "    <tr>\n",
       "      <th>1</th>\n",
       "      <td>5.50</td>\n",
       "      <td>3.6</td>\n",
       "      <td>1.67</td>\n",
       "      <td>60</td>\n",
       "      <td>70</td>\n",
       "      <td>55</td>\n",
       "      <td>35</td>\n",
       "      <td>70</td>\n",
       "      <td>70</td>\n",
       "      <td>70</td>\n",
       "      <td>35</td>\n",
       "      <td>50</td>\n",
       "      <td>35</td>\n",
       "      <td>70</td>\n",
       "      <td>40</td>\n",
       "      <td>50</td>\n",
       "      <td>60</td>\n",
       "      <td>60</td>\n",
       "      <td>40</td>\n",
       "    </tr>\n",
       "    <tr>\n",
       "      <th>2</th>\n",
       "      <td>1.91</td>\n",
       "      <td>3.4</td>\n",
       "      <td>4.20</td>\n",
       "      <td>58</td>\n",
       "      <td>30</td>\n",
       "      <td>50</td>\n",
       "      <td>30</td>\n",
       "      <td>31</td>\n",
       "      <td>70</td>\n",
       "      <td>70</td>\n",
       "      <td>30</td>\n",
       "      <td>70</td>\n",
       "      <td>70</td>\n",
       "      <td>50</td>\n",
       "      <td>35</td>\n",
       "      <td>70</td>\n",
       "      <td>70</td>\n",
       "      <td>70</td>\n",
       "      <td>35</td>\n",
       "    </tr>\n",
       "    <tr>\n",
       "      <th>3</th>\n",
       "      <td>2.00</td>\n",
       "      <td>3.3</td>\n",
       "      <td>4.00</td>\n",
       "      <td>60</td>\n",
       "      <td>65</td>\n",
       "      <td>45</td>\n",
       "      <td>40</td>\n",
       "      <td>60</td>\n",
       "      <td>70</td>\n",
       "      <td>70</td>\n",
       "      <td>40</td>\n",
       "      <td>55</td>\n",
       "      <td>70</td>\n",
       "      <td>55</td>\n",
       "      <td>45</td>\n",
       "      <td>60</td>\n",
       "      <td>70</td>\n",
       "      <td>70</td>\n",
       "      <td>45</td>\n",
       "    </tr>\n",
       "    <tr>\n",
       "      <th>4</th>\n",
       "      <td>3.20</td>\n",
       "      <td>3.4</td>\n",
       "      <td>2.25</td>\n",
       "      <td>70</td>\n",
       "      <td>70</td>\n",
       "      <td>50</td>\n",
       "      <td>30</td>\n",
       "      <td>70</td>\n",
       "      <td>70</td>\n",
       "      <td>70</td>\n",
       "      <td>30</td>\n",
       "      <td>70</td>\n",
       "      <td>50</td>\n",
       "      <td>50</td>\n",
       "      <td>50</td>\n",
       "      <td>50</td>\n",
       "      <td>65</td>\n",
       "      <td>50</td>\n",
       "      <td>50</td>\n",
       "    </tr>\n",
       "  </tbody>\n",
       "</table>\n",
       "</div>"
      ],
      "text/plain": [
       "   B365H  B365D  B365A  H_Speed  H_Pass  H_Shoot  H_Pressure  H_chPass  \\\n",
       "0   1.20    6.5  15.00       66      30       35          30        30   \n",
       "1   5.50    3.6   1.67       60      70       55          35        70   \n",
       "2   1.91    3.4   4.20       58      30       50          30        31   \n",
       "3   2.00    3.3   4.00       60      65       45          40        60   \n",
       "4   3.20    3.4   2.25       70      70       50          30        70   \n",
       "\n",
       "   H_chCross  H_dAggr  H_dWidth  A_Speed  A_Pass  A_Shoot  A_Pressure  \\\n",
       "0         45       40        50       65      40       55          70   \n",
       "1         70       70        35       50      35       70          40   \n",
       "2         70       70        30       70      70       50          35   \n",
       "3         70       70        40       55      70       55          45   \n",
       "4         70       70        30       70      50       50          50   \n",
       "\n",
       "   A_chPass  A_chCross  A_dAggr  A_dWidth  \n",
       "0        70         70       70        70  \n",
       "1        50         60       60        40  \n",
       "2        70         70       70        35  \n",
       "3        60         70       70        45  \n",
       "4        50         65       50        50  "
      ]
     },
     "execution_count": 4,
     "metadata": {},
     "output_type": "execute_result"
    }
   ],
   "source": [
    "features = ['B365H', 'B365D', 'B365A',\n",
    "            'H_Speed', 'H_Pass', 'H_Shoot', 'H_Pressure', 'H_chPass', 'H_chCross', 'H_dAggr', 'H_dWidth',\n",
    "            'A_Speed', 'A_Pass', 'A_Shoot', 'A_Pressure', 'A_chPass', 'A_chCross', 'A_dAggr', 'A_dWidth']\n",
    "\n",
    "cross_validator = model_selection.KFold(n_splits=4, shuffle=True)\n",
    "scoring_type = 'accuracy'\n",
    "\n",
    "f = open('results_v1.txt','w')\n",
    "\n",
    "print(model_data[features].shape)\n",
    "model_data[features].head()\n"
   ]
  },
  {
   "cell_type": "code",
   "execution_count": 6,
   "metadata": {},
   "outputs": [],
   "source": [
    "ALGS = [\n",
    "    ('LR', LogisticRegression()),\n",
    "    ('LDA', LinearDiscriminantAnalysis()),\n",
    "    ('KNN', KNeighborsClassifier()),\n",
    "    ('CART', DecisionTreeClassifier()),\n",
    "    ('NB', GaussianNB()),\n",
    "    ('SVM', SVC())\n",
    "]\n",
    "\n",
    "def compare_algs(X, y, cross_validator, scoring_type, title=\"-- Other comparison --\"):\n",
    "    \n",
    "    print (title)\n",
    "    f.write(title+\"\\n\")\n",
    "\n",
    "    topic = \"Algo: \\tres.mean: \\tres.std:\"\n",
    "    print (topic)\n",
    "    f.write(topic+\"\\n\")\n",
    "    \n",
    "    results = []\n",
    "    names = []\n",
    "    for name, model in ALGS:\n",
    "        result = model_selection.cross_val_score(model, X, y,\n",
    "                                              cv=cross_validator,\n",
    "                                              scoring=scoring_type)\n",
    "        results.append(result)\n",
    "        names.append(name)\n",
    "        info = \"%s  \\t%f \\t(%f)\" % (name, result.mean(), result.std())\n",
    "        f.write(info+\"\\n\")\n",
    "        print(info)\n",
    "\n",
    "    f.write(\"\\n\\n\")\n",
    "\n",
    "    fig = plt.figure()\n",
    "    ax = fig.add_subplot(111)\n",
    "    plt.boxplot(results)\n",
    "    ax.set_xticklabels(names)\n",
    "    plt.show()\n"
   ]
  },
  {
   "cell_type": "markdown",
   "metadata": {},
   "source": [
    "### Basic comparison:"
   ]
  },
  {
   "cell_type": "code",
   "execution_count": 7,
   "metadata": {},
   "outputs": [
    {
     "name": "stdout",
     "output_type": "stream",
     "text": [
      "--- Basic comparison of algorithms  ---\n",
      "Algo: \tres.mean: \tres.std:\n",
      "LR  \t0.539967 \t(0.011207)\n",
      "LDA  \t0.538158 \t(0.008960)\n",
      "KNN  \t0.458882 \t(0.006250)\n",
      "CART  \t0.449671 \t(0.015468)\n",
      "NB  \t0.451480 \t(0.011455)\n",
      "SVM  \t0.466283 \t(0.008989)\n"
     ]
    },
    {
     "data": {
      "image/png": "[encoded data removed]",
      "text/plain": [
       "<matplotlib.figure.Figure at 0x1088e2450>"
      ]
     },
     "metadata": {},
     "output_type": "display_data"
    }
   ],
   "source": [
    "X = model_data[features]\n",
    "y = model_data['Result']\n",
    "\n",
    "title = \"--- Basic comparison of algorithms  ---\"\n",
    "\n",
    "compare_algs(X, y, cross_validator, scoring_type, title)"
   ]
  },
  {
   "cell_type": "markdown",
   "metadata": {},
   "source": [
    "### Basic comparison with preprocessing:"
   ]
  },
  {
   "cell_type": "code",
   "execution_count": 8,
   "metadata": {},
   "outputs": [
    {
     "name": "stdout",
     "output_type": "stream",
     "text": [
      "--- Basic comparison with preprocessing  ---\n",
      "Algo: \tres.mean: \tres.std:\n",
      "LR  \t0.541447 \t(0.013281)\n",
      "LDA  \t0.539638 \t(0.008468)\n",
      "KNN  \t0.471711 \t(0.011116)\n",
      "CART  \t0.431414 \t(0.011698)\n",
      "NB  \t0.450329 \t(0.019099)\n",
      "SVM  \t0.531250 \t(0.011865)\n"
     ]
    },
    {
     "data": {
      "image/png": "[encoded data removed]",
      "text/plain": [
       "<matplotlib.figure.Figure at 0x10c9ba9d0>"
      ]
     },
     "metadata": {},
     "output_type": "display_data"
    }
   ],
   "source": [
    "X = preprocessing.scale(model_data[features])\n",
    "y = model_data['Result']\n",
    "\n",
    "title = \"--- Basic comparison with preprocessing  ---\"\n",
    "\n",
    "compare_algs(X, y, cross_validator, scoring_type, title)"
   ]
  },
  {
   "cell_type": "markdown",
   "metadata": {},
   "source": [
    "## Other model comparisons:"
   ]
  },
  {
   "cell_type": "code",
   "execution_count": 9,
   "metadata": {},
   "outputs": [
    {
     "name": "stdout",
     "output_type": "stream",
     "text": [
      "-- Other comparison --\n",
      "Algo: \tres.mean: \tres.std:\n",
      "LR  \t0.544901 \t(0.007663)\n",
      "LDA  \t0.538816 \t(0.011471)\n",
      "KNN  \t0.488322 \t(0.006937)\n",
      "CART  \t0.494243 \t(0.016769)\n",
      "NB  \t0.428618 \t(0.015600)\n",
      "SVM  \t0.546382 \t(0.009356)\n"
     ]
    },
    {
     "data": {
      "image/png": "[encoded data removed]",
      "text/plain": [
       "<matplotlib.figure.Figure at 0x107afa1d0>"
      ]
     },
     "metadata": {},
     "output_type": "display_data"
    }
   ],
   "source": [
    "features_B365 = ['B365H', 'B365D', 'B365A']\n",
    "\n",
    "X = model_data[features_B365]\n",
    "y = model_data['Result']\n",
    "\n",
    "compare_algs(X, y, cross_validator, scoring_type)"
   ]
  },
  {
   "cell_type": "code",
   "execution_count": 10,
   "metadata": {},
   "outputs": [
    {
     "name": "stdout",
     "output_type": "stream",
     "text": [
      "-- Other comparison --\n",
      "Algo: \tres.mean: \tres.std:\n",
      "LR  \t0.483224 \t(0.005688)\n",
      "LDA  \t0.484539 \t(0.010470)\n",
      "KNN  \t0.468092 \t(0.009074)\n",
      "CART  \t0.430263 \t(0.007311)\n",
      "NB  \t0.474836 \t(0.013177)\n",
      "SVM  \t0.467105 \t(0.009304)\n"
     ]
    },
    {
     "data": {
      "image/png": "[encoded data removed]",
      "text/plain": [
       "<matplotlib.figure.Figure at 0x10e06bb90>"
      ]
     },
     "metadata": {},
     "output_type": "display_data"
    }
   ],
   "source": [
    "features_noB365 = ['H_Speed', 'H_Pass', 'H_Shoot', 'H_Pressure', 'H_chPass', 'H_chCross', 'H_dAggr', 'H_dWidth',\n",
    "                   'A_Speed', 'A_Pass', 'A_Shoot', 'A_Pressure', 'A_chPass', 'A_chCross', 'A_dAggr', 'A_dWidth']\n",
    "\n",
    "X = model_data[features_noB365]\n",
    "y = model_data['Result']\n",
    "\n",
    "compare_algs(X, y, cross_validator, scoring_type)\n"
   ]
  },
  {
   "cell_type": "code",
   "execution_count": null,
   "metadata": {},
   "outputs": [],
   "source": []
  },
  {
   "cell_type": "code",
   "execution_count": null,
   "metadata": {},
   "outputs": [],
   "source": []
  },
  {
   "cell_type": "code",
   "execution_count": null,
   "metadata": {},
   "outputs": [],
   "source": []
  }
 ],
 "metadata": {
  "kernelspec": {
   "display_name": "Python 2",
   "language": "python",
   "name": "python2"
  },
  "language_info": {
   "codemirror_mode": {
    "name": "ipython",
    "version": 2
   },
   "file_extension": ".py",
   "mimetype": "text/x-python",
   "name": "python",
   "nbconvert_exporter": "python",
   "pygments_lexer": "ipython2",
   "version": "2.7.10"
  }
 },
 "nbformat": 4,
 "nbformat_minor": 2
}
