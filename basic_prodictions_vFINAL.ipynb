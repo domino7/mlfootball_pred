{
 "cells": [
  {
   "cell_type": "markdown",
   "metadata": {},
   "source": [
    "# Predictions based on final vector - vFINAL"
   ]
  },
  {
   "cell_type": "code",
   "execution_count": 1,
   "metadata": {},
   "outputs": [],
   "source": [
    "import pandas as pd\n",
    "from sklearn import model_selection\n",
    "from sklearn import preprocessing\n",
    "from sklearn.linear_model import LogisticRegression\n",
    "from sklearn.tree import DecisionTreeClassifier\n",
    "from sklearn.neighbors import KNeighborsClassifier\n",
    "from sklearn.discriminant_analysis import LinearDiscriminantAnalysis\n",
    "from sklearn.naive_bayes import GaussianNB\n",
    "from sklearn.svm import SVC\n",
    "import matplotlib.pyplot as plt\n"
   ]
  },
  {
   "cell_type": "markdown",
   "metadata": {},
   "source": [
    "## Features:\n",
    "\n",
    "* TMV (Total Market Value)\n",
    "* Forma (zwycięstwa/przegrane) z ostatnich 3 meczów\n",
    "* Ważona średnia liczba oddanych strzałów z ostatnich 5 meczów\n",
    "* Ważona średnia liczba strzałów na bramkę z ostatnich 5 meczów\n",
    "* Ważona średnia liczba goli w ostatnich 5 meczach"
   ]
  },
  {
   "cell_type": "code",
   "execution_count": 2,
   "metadata": {},
   "outputs": [
    {
     "name": "stdout",
     "output_type": "stream",
     "text": [
      "(6080, 61)\n"
     ]
    }
   ],
   "source": [
    "model_data = pd.read_csv('learning_vectors/v05/version5-complete.csv', sep=',')\n",
    "\n",
    "model_data = model_data.set_index(['Match_id'])\n",
    "model_data = model_data.sort_values(['League_id', 'Date'])\n",
    "model_data.columns = [\n",
    "    'League_id', 'Season', 'Stage', 'Date', 'H_team', 'A_team', 'Result',\n",
    "    'H_Speed', 'H_Pass', 'H_Shoot', 'H_Pressure', 'H_chPass', 'H_chCross', 'H_dAggr', 'H_dWidth',\n",
    "    'A_Speed', 'A_Pass', 'A_Shoot', 'A_Pressure', 'A_chPass', 'A_chCross', 'A_dAggr', 'A_dWidth',\n",
    "    'H_age', 'A_age',\n",
    "    'H_TMV', 'A_TMV',\n",
    "    'FTHG', 'FTAG', 'HS', 'AS', 'HST', 'AST',\n",
    "    'H_Form03', 'A_Form03',\n",
    "    'H_Form05', 'A_Form05',\n",
    "    'H_MeanShots03', 'A_MeanShots03',\n",
    "    'H_MeanShots05', 'A_MeanShots05',\n",
    "    'H_MeanShotsOnTarget03', 'A_MeanShotsOnTarget03',\n",
    "    'H_MeanShotsOnTarget05', 'A_MeanShotsOnTarget05',\n",
    "    'H_MeanFullTimeGoals03', 'A_MeanFullTimeGoals03',\n",
    "    'H_MeanFullTimeGoals05', 'A_MeanFullTimeGoals05',\n",
    "    'H_WeightedMeanShots03', 'A_WeightedMeanShots03',\n",
    "    'H_WeightedMeanShots05', 'A_WeightedMeanShots05',\n",
    "    'H_WeightedMeanShotsOnTarget03', 'A_WeightedMeanShotsOnTarget03',\n",
    "    'H_WeightedMeanShotsOnTarget05', 'A_WeightedMeanShotsOnTarget05',\n",
    "    'H_WeightedMeanFullTimeGoals03', 'A_WeightedMeanFullTimeGoals03',\n",
    "    'H_WeightedMeanFullTimeGoals05', 'A_WeightedMeanFullTimeGoals05'\n",
    "]\n",
    "\n",
    "print(model_data.shape)\n",
    "# model_data.head()\n"
   ]
  },
  {
   "cell_type": "markdown",
   "metadata": {},
   "source": [
    "## Different algorithms comparison"
   ]
  },
  {
   "cell_type": "code",
   "execution_count": 3,
   "metadata": {},
   "outputs": [
    {
     "name": "stdout",
     "output_type": "stream",
     "text": [
      "(6080, 10)\n"
     ]
    },
    {
     "data": {
      "text/html": [
       "<div>\n",
       "<style>\n",
       "    .dataframe thead tr:only-child th {\n",
       "        text-align: right;\n",
       "    }\n",
       "\n",
       "    .dataframe thead th {\n",
       "        text-align: left;\n",
       "    }\n",
       "\n",
       "    .dataframe tbody tr th {\n",
       "        vertical-align: top;\n",
       "    }\n",
       "</style>\n",
       "<table border=\"1\" class=\"dataframe\">\n",
       "  <thead>\n",
       "    <tr style=\"text-align: right;\">\n",
       "      <th></th>\n",
       "      <th>H_TMV</th>\n",
       "      <th>A_TMV</th>\n",
       "      <th>H_Form03</th>\n",
       "      <th>A_Form03</th>\n",
       "      <th>H_WeightedMeanShots05</th>\n",
       "      <th>A_WeightedMeanShots05</th>\n",
       "      <th>H_WeightedMeanShotsOnTarget05</th>\n",
       "      <th>A_WeightedMeanShotsOnTarget05</th>\n",
       "      <th>H_WeightedMeanFullTimeGoals05</th>\n",
       "      <th>A_WeightedMeanFullTimeGoals05</th>\n",
       "    </tr>\n",
       "    <tr>\n",
       "      <th>Match_id</th>\n",
       "      <th></th>\n",
       "      <th></th>\n",
       "      <th></th>\n",
       "      <th></th>\n",
       "      <th></th>\n",
       "      <th></th>\n",
       "      <th></th>\n",
       "      <th></th>\n",
       "      <th></th>\n",
       "      <th></th>\n",
       "    </tr>\n",
       "  </thead>\n",
       "  <tbody>\n",
       "    <tr>\n",
       "      <th>1730</th>\n",
       "      <td>250.0</td>\n",
       "      <td>64.0</td>\n",
       "      <td>4</td>\n",
       "      <td>1</td>\n",
       "      <td>19.617647</td>\n",
       "      <td>11.823529</td>\n",
       "      <td>11.558824</td>\n",
       "      <td>5.058824</td>\n",
       "      <td>2.000000</td>\n",
       "      <td>0.735294</td>\n",
       "    </tr>\n",
       "    <tr>\n",
       "      <th>1731</th>\n",
       "      <td>91.0</td>\n",
       "      <td>257.0</td>\n",
       "      <td>0</td>\n",
       "      <td>6</td>\n",
       "      <td>8.000000</td>\n",
       "      <td>17.882353</td>\n",
       "      <td>4.235294</td>\n",
       "      <td>9.529412</td>\n",
       "      <td>0.558824</td>\n",
       "      <td>1.764706</td>\n",
       "    </tr>\n",
       "    <tr>\n",
       "      <th>1732</th>\n",
       "      <td>80.0</td>\n",
       "      <td>61.0</td>\n",
       "      <td>4</td>\n",
       "      <td>3</td>\n",
       "      <td>13.558824</td>\n",
       "      <td>17.264706</td>\n",
       "      <td>8.058824</td>\n",
       "      <td>9.176471</td>\n",
       "      <td>1.029412</td>\n",
       "      <td>1.117647</td>\n",
       "    </tr>\n",
       "    <tr>\n",
       "      <th>1734</th>\n",
       "      <td>162.0</td>\n",
       "      <td>86.0</td>\n",
       "      <td>6</td>\n",
       "      <td>4</td>\n",
       "      <td>13.088235</td>\n",
       "      <td>13.911765</td>\n",
       "      <td>6.941176</td>\n",
       "      <td>7.764706</td>\n",
       "      <td>1.882353</td>\n",
       "      <td>2.058824</td>\n",
       "    </tr>\n",
       "    <tr>\n",
       "      <th>1735</th>\n",
       "      <td>73.0</td>\n",
       "      <td>212.0</td>\n",
       "      <td>7</td>\n",
       "      <td>4</td>\n",
       "      <td>13.058824</td>\n",
       "      <td>10.735294</td>\n",
       "      <td>7.558824</td>\n",
       "      <td>6.382353</td>\n",
       "      <td>1.941176</td>\n",
       "      <td>2.411765</td>\n",
       "    </tr>\n",
       "  </tbody>\n",
       "</table>\n",
       "</div>"
      ],
      "text/plain": [
       "          H_TMV  A_TMV  H_Form03  A_Form03  H_WeightedMeanShots05  \\\n",
       "Match_id                                                            \n",
       "1730      250.0   64.0         4         1              19.617647   \n",
       "1731       91.0  257.0         0         6               8.000000   \n",
       "1732       80.0   61.0         4         3              13.558824   \n",
       "1734      162.0   86.0         6         4              13.088235   \n",
       "1735       73.0  212.0         7         4              13.058824   \n",
       "\n",
       "          A_WeightedMeanShots05  H_WeightedMeanShotsOnTarget05  \\\n",
       "Match_id                                                         \n",
       "1730                  11.823529                      11.558824   \n",
       "1731                  17.882353                       4.235294   \n",
       "1732                  17.264706                       8.058824   \n",
       "1734                  13.911765                       6.941176   \n",
       "1735                  10.735294                       7.558824   \n",
       "\n",
       "          A_WeightedMeanShotsOnTarget05  H_WeightedMeanFullTimeGoals05  \\\n",
       "Match_id                                                                 \n",
       "1730                           5.058824                       2.000000   \n",
       "1731                           9.529412                       0.558824   \n",
       "1732                           9.176471                       1.029412   \n",
       "1734                           7.764706                       1.882353   \n",
       "1735                           6.382353                       1.941176   \n",
       "\n",
       "          A_WeightedMeanFullTimeGoals05  \n",
       "Match_id                                 \n",
       "1730                           0.735294  \n",
       "1731                           1.764706  \n",
       "1732                           1.117647  \n",
       "1734                           2.058824  \n",
       "1735                           2.411765  "
      ]
     },
     "execution_count": 3,
     "metadata": {},
     "output_type": "execute_result"
    }
   ],
   "source": [
    "features = [\n",
    "    'H_TMV', 'A_TMV',\n",
    "    'H_Form03', 'A_Form03',\n",
    "    'H_WeightedMeanShots05', 'A_WeightedMeanShots05',\n",
    "    'H_WeightedMeanShotsOnTarget05', 'A_WeightedMeanShotsOnTarget05',\n",
    "    'H_WeightedMeanFullTimeGoals05', 'A_WeightedMeanFullTimeGoals05'\n",
    "]\n",
    "\n",
    "ALGS = [\n",
    "    ('LR', LogisticRegression()),\n",
    "    ('LDA', LinearDiscriminantAnalysis()),\n",
    "    ('KNN', KNeighborsClassifier()),\n",
    "    ('CART', DecisionTreeClassifier()),\n",
    "    ('NB', GaussianNB()),\n",
    "    ('SVM', SVC())\n",
    "]\n",
    "\n",
    "print(model_data[features].shape)\n",
    "model_data[features].head()\n"
   ]
  },
  {
   "cell_type": "markdown",
   "metadata": {},
   "source": [
    "### Basic compraison: "
   ]
  },
  {
   "cell_type": "code",
   "execution_count": 4,
   "metadata": {},
   "outputs": [
    {
     "name": "stdout",
     "output_type": "stream",
     "text": [
      "Alg/res.mean/res.std\n",
      "LR: 0.537171 (0.012348)\n",
      "LDA: 0.535362 (0.014273)\n",
      "KNN: 0.467599 (0.003985)\n",
      "CART: 0.421711 (0.004652)\n",
      "NB: 0.504934 (0.009994)\n",
      "SVM: 0.467599 (0.006436)\n"
     ]
    },
    {
     "data": {
      "image/png": "[encoded data removed]",
      "text/plain": [
       "<matplotlib.figure.Figure at 0x108766110>"
      ]
     },
     "metadata": {},
     "output_type": "display_data"
    }
   ],
   "source": [
    "X = model_data[features]\n",
    "y = model_data['Result']\n",
    "\n",
    "results = []\n",
    "names = []\n",
    "print (\"Alg/res.mean/res.std\")\n",
    "for name, model in ALGS:\n",
    "    cross_validator = model_selection.KFold(n_splits=4, shuffle=True)\n",
    "    res = model_selection.cross_val_score(model, X, y,\n",
    "                                          cv=cross_validator,\n",
    "                                          scoring='accuracy')\n",
    "    results.append(res)\n",
    "    names.append(name)\n",
    "    info = \"%s: %f (%f)\" % (name, res.mean(), res.std())\n",
    "    print(info)\n",
    "\n",
    "fig = plt.figure()\n",
    "fig.suptitle('different algorithms comparison')\n",
    "ax = fig.add_subplot(111)\n",
    "plt.boxplot(results)\n",
    "ax.set_xticklabels(names)\n",
    "plt.show()\n"
   ]
  },
  {
   "cell_type": "markdown",
   "metadata": {},
   "source": [
    "### Basic comparison with preprocessing:"
   ]
  },
  {
   "cell_type": "code",
   "execution_count": 5,
   "metadata": {},
   "outputs": [
    {
     "name": "stdout",
     "output_type": "stream",
     "text": [
      "Alg/res.mean/res.std\n",
      "LR: 0.534704 (0.006108)\n",
      "LDA: 0.534539 (0.004174)\n",
      "KNN: 0.477303 (0.008237)\n",
      "CART: 0.415625 (0.009297)\n",
      "NB: 0.505757 (0.016833)\n",
      "SVM: 0.533553 (0.007222)\n"
     ]
    },
    {
     "data": {
      "image/png": "[encoded data removed]",
      "text/plain": [
       "<matplotlib.figure.Figure at 0x108767410>"
      ]
     },
     "metadata": {},
     "output_type": "display_data"
    }
   ],
   "source": [
    "X = preprocessing.scale(model_data[features])\n",
    "y = model_data['Result']\n",
    "\n",
    "results = []\n",
    "names = []\n",
    "print (\"Alg/res.mean/res.std\")\n",
    "for name, model in ALGS:\n",
    "    cross_validator = model_selection.KFold(n_splits=4, shuffle=True)\n",
    "    res = model_selection.cross_val_score(model, X, y,\n",
    "                                          cv=cross_validator,\n",
    "                                          scoring='accuracy')\n",
    "    results.append(res)\n",
    "    names.append(name)\n",
    "    info = \"%s: %f (%f)\" % (name, res.mean(), res.std())\n",
    "    print(info)\n",
    "\n",
    "fig = plt.figure()\n",
    "fig.suptitle('different algorithms comparison')\n",
    "ax = fig.add_subplot(111)\n",
    "plt.boxplot(results)\n",
    "ax.set_xticklabels(names)\n",
    "plt.show()\n"
   ]
  }
 ],
 "metadata": {
  "kernelspec": {
   "display_name": "Python 2",
   "language": "python",
   "name": "python2"
  },
  "language_info": {
   "codemirror_mode": {
    "name": "ipython",
    "version": 2
   },
   "file_extension": ".py",
   "mimetype": "text/x-python",
   "name": "python",
   "nbconvert_exporter": "python",
   "pygments_lexer": "ipython2",
   "version": "2.7.10"
  }
 },
 "nbformat": 4,
 "nbformat_minor": 2
}
