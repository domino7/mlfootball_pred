{
 "cells": [
  {
   "cell_type": "markdown",
   "metadata": {},
   "source": [
    "# Predictions based on fourth vector - v4"
   ]
  },
  {
   "cell_type": "code",
   "execution_count": 1,
   "metadata": {},
   "outputs": [],
   "source": [
    "import pandas as pd\n",
    "from sklearn import model_selection\n",
    "from sklearn import preprocessing\n",
    "from sklearn.linear_model import LogisticRegression\n",
    "from sklearn.tree import DecisionTreeClassifier\n",
    "from sklearn.neighbors import KNeighborsClassifier\n",
    "from sklearn.discriminant_analysis import LinearDiscriminantAnalysis\n",
    "from sklearn.naive_bayes import GaussianNB\n",
    "from sklearn.svm import SVC\n",
    "import matplotlib.pyplot as plt\n"
   ]
  },
  {
   "cell_type": "markdown",
   "metadata": {},
   "source": [
    "## Features:\n",
    "\n",
    "* Age\n",
    "* TMV (Total Market Value)\n",
    "* Forma (zwycięstwa/przegrane) z ostatnich 3 meczów\n",
    "* Forma (zwycięstwa/przegrane) z ostatnich 5 meczów \n",
    "* Średnia liczba oddanych strzałów z ostatnich 3 meczów\n",
    "* Średnia liczba oddanych strzałów z ostatnich 5 meczów\n",
    "* Średnia liczba strzałów na bramkę z ostatnich 3 meczów\n",
    "* Średnia liczba strzałów na bramkę z ostatnich 5 meczów"
   ]
  },
  {
   "cell_type": "code",
   "execution_count": 2,
   "metadata": {},
   "outputs": [
    {
     "name": "stdout",
     "output_type": "stream",
     "text": [
      "(6069, 29)\n"
     ]
    }
   ],
   "source": [
    "model_data = pd.read_csv('learning_vectors/v04/version04-shotstransfermarkt_noNaNs.csv', sep=',')\n",
    "model_data = model_data.set_index(['Match_id'])\n",
    "model_data = model_data.sort_values(['League_id', 'Date'])\n",
    "model_data.columns = [\n",
    "    'League_id', 'Season', 'Stage', 'Date', 'H_team', 'A_team', 'Result',\n",
    "    'FTHG', 'FTAG', 'HS', 'AS', 'HST', 'AST',\n",
    "    'H_age', 'A_age',\n",
    "    'H_TMV', 'A_TMV',\n",
    "    'H_Form03', 'A_Form03',\n",
    "    'H_Form05', 'A_Form05',\n",
    "    'H_MeanShots03', 'A_MeanShots03',\n",
    "    'H_MeanShots05', 'A_MeanShots05',\n",
    "    'H_MeanShotsOnTarget03', 'A_MeanShotsOnTarget03',\n",
    "    'H_Better_MeanShotsOnTarget05', 'A_Better_MeanShotsOnTarget05'\n",
    "]\n",
    "\n",
    "print(model_data.shape)\n",
    "# model_data.head()\n"
   ]
  },
  {
   "cell_type": "code",
   "execution_count": 3,
   "metadata": {},
   "outputs": [
    {
     "name": "stdout",
     "output_type": "stream",
     "text": [
      "False\n"
     ]
    }
   ],
   "source": [
    "#Check for nulls\n",
    "model_data.isnull().sum()\n",
    "print(model_data.isnull().any().any())\n"
   ]
  },
  {
   "cell_type": "markdown",
   "metadata": {},
   "source": [
    "## Different algorithms comparison"
   ]
  },
  {
   "cell_type": "code",
   "execution_count": 4,
   "metadata": {},
   "outputs": [
    {
     "name": "stdout",
     "output_type": "stream",
     "text": [
      "(6069, 16)\n"
     ]
    },
    {
     "data": {
      "text/html": [
       "<div>\n",
       "<style>\n",
       "    .dataframe thead tr:only-child th {\n",
       "        text-align: right;\n",
       "    }\n",
       "\n",
       "    .dataframe thead th {\n",
       "        text-align: left;\n",
       "    }\n",
       "\n",
       "    .dataframe tbody tr th {\n",
       "        vertical-align: top;\n",
       "    }\n",
       "</style>\n",
       "<table border=\"1\" class=\"dataframe\">\n",
       "  <thead>\n",
       "    <tr style=\"text-align: right;\">\n",
       "      <th></th>\n",
       "      <th>H_age</th>\n",
       "      <th>A_age</th>\n",
       "      <th>H_TMV</th>\n",
       "      <th>A_TMV</th>\n",
       "      <th>H_Form03</th>\n",
       "      <th>A_Form03</th>\n",
       "      <th>H_Form05</th>\n",
       "      <th>A_Form05</th>\n",
       "      <th>H_MeanShots03</th>\n",
       "      <th>A_MeanShots03</th>\n",
       "      <th>H_MeanShots05</th>\n",
       "      <th>A_MeanShots05</th>\n",
       "      <th>H_MeanShotsOnTarget03</th>\n",
       "      <th>A_MeanShotsOnTarget03</th>\n",
       "      <th>H_Better_MeanShotsOnTarget05</th>\n",
       "      <th>A_Better_MeanShotsOnTarget05</th>\n",
       "    </tr>\n",
       "    <tr>\n",
       "      <th>Match_id</th>\n",
       "      <th></th>\n",
       "      <th></th>\n",
       "      <th></th>\n",
       "      <th></th>\n",
       "      <th></th>\n",
       "      <th></th>\n",
       "      <th></th>\n",
       "      <th></th>\n",
       "      <th></th>\n",
       "      <th></th>\n",
       "      <th></th>\n",
       "      <th></th>\n",
       "      <th></th>\n",
       "      <th></th>\n",
       "      <th></th>\n",
       "      <th></th>\n",
       "    </tr>\n",
       "  </thead>\n",
       "  <tbody>\n",
       "    <tr>\n",
       "      <th>1730</th>\n",
       "      <td>24.0</td>\n",
       "      <td>5.0</td>\n",
       "      <td>14.0</td>\n",
       "      <td>4.0</td>\n",
       "      <td>4</td>\n",
       "      <td>1</td>\n",
       "      <td>7</td>\n",
       "      <td>1</td>\n",
       "      <td>19.000000</td>\n",
       "      <td>11.333333</td>\n",
       "      <td>15.8</td>\n",
       "      <td>10.2</td>\n",
       "      <td>10.666667</td>\n",
       "      <td>5.333333</td>\n",
       "      <td>9.4</td>\n",
       "      <td>4.2</td>\n",
       "    </tr>\n",
       "    <tr>\n",
       "      <th>1731</th>\n",
       "      <td>6.0</td>\n",
       "      <td>14.0</td>\n",
       "      <td>3.0</td>\n",
       "      <td>8.0</td>\n",
       "      <td>0</td>\n",
       "      <td>6</td>\n",
       "      <td>3</td>\n",
       "      <td>12</td>\n",
       "      <td>5.333333</td>\n",
       "      <td>16.333333</td>\n",
       "      <td>7.0</td>\n",
       "      <td>15.0</td>\n",
       "      <td>2.333333</td>\n",
       "      <td>8.000000</td>\n",
       "      <td>3.8</td>\n",
       "      <td>8.0</td>\n",
       "    </tr>\n",
       "    <tr>\n",
       "      <th>1732</th>\n",
       "      <td>15.0</td>\n",
       "      <td>22.0</td>\n",
       "      <td>8.0</td>\n",
       "      <td>9.0</td>\n",
       "      <td>4</td>\n",
       "      <td>3</td>\n",
       "      <td>5</td>\n",
       "      <td>5</td>\n",
       "      <td>10.666667</td>\n",
       "      <td>13.000000</td>\n",
       "      <td>11.6</td>\n",
       "      <td>14.6</td>\n",
       "      <td>5.666667</td>\n",
       "      <td>6.333333</td>\n",
       "      <td>7.0</td>\n",
       "      <td>8.0</td>\n",
       "    </tr>\n",
       "    <tr>\n",
       "      <th>1734</th>\n",
       "      <td>10.0</td>\n",
       "      <td>15.0</td>\n",
       "      <td>5.0</td>\n",
       "      <td>11.0</td>\n",
       "      <td>6</td>\n",
       "      <td>4</td>\n",
       "      <td>10</td>\n",
       "      <td>4</td>\n",
       "      <td>10.000000</td>\n",
       "      <td>11.666667</td>\n",
       "      <td>11.4</td>\n",
       "      <td>11.8</td>\n",
       "      <td>5.333333</td>\n",
       "      <td>7.000000</td>\n",
       "      <td>6.0</td>\n",
       "      <td>6.4</td>\n",
       "    </tr>\n",
       "    <tr>\n",
       "      <th>1735</th>\n",
       "      <td>14.0</td>\n",
       "      <td>8.0</td>\n",
       "      <td>10.0</td>\n",
       "      <td>5.0</td>\n",
       "      <td>7</td>\n",
       "      <td>4</td>\n",
       "      <td>11</td>\n",
       "      <td>7</td>\n",
       "      <td>10.000000</td>\n",
       "      <td>8.333333</td>\n",
       "      <td>11.2</td>\n",
       "      <td>9.2</td>\n",
       "      <td>6.666667</td>\n",
       "      <td>5.000000</td>\n",
       "      <td>6.2</td>\n",
       "      <td>5.4</td>\n",
       "    </tr>\n",
       "  </tbody>\n",
       "</table>\n",
       "</div>"
      ],
      "text/plain": [
       "          H_age  A_age  H_TMV  A_TMV  H_Form03  A_Form03  H_Form05  A_Form05  \\\n",
       "Match_id                                                                       \n",
       "1730       24.0    5.0   14.0    4.0         4         1         7         1   \n",
       "1731        6.0   14.0    3.0    8.0         0         6         3        12   \n",
       "1732       15.0   22.0    8.0    9.0         4         3         5         5   \n",
       "1734       10.0   15.0    5.0   11.0         6         4        10         4   \n",
       "1735       14.0    8.0   10.0    5.0         7         4        11         7   \n",
       "\n",
       "          H_MeanShots03  A_MeanShots03  H_MeanShots05  A_MeanShots05  \\\n",
       "Match_id                                                               \n",
       "1730          19.000000      11.333333           15.8           10.2   \n",
       "1731           5.333333      16.333333            7.0           15.0   \n",
       "1732          10.666667      13.000000           11.6           14.6   \n",
       "1734          10.000000      11.666667           11.4           11.8   \n",
       "1735          10.000000       8.333333           11.2            9.2   \n",
       "\n",
       "          H_MeanShotsOnTarget03  A_MeanShotsOnTarget03  \\\n",
       "Match_id                                                 \n",
       "1730                  10.666667               5.333333   \n",
       "1731                   2.333333               8.000000   \n",
       "1732                   5.666667               6.333333   \n",
       "1734                   5.333333               7.000000   \n",
       "1735                   6.666667               5.000000   \n",
       "\n",
       "          H_Better_MeanShotsOnTarget05  A_Better_MeanShotsOnTarget05  \n",
       "Match_id                                                              \n",
       "1730                               9.4                           4.2  \n",
       "1731                               3.8                           8.0  \n",
       "1732                               7.0                           8.0  \n",
       "1734                               6.0                           6.4  \n",
       "1735                               6.2                           5.4  "
      ]
     },
     "execution_count": 4,
     "metadata": {},
     "output_type": "execute_result"
    }
   ],
   "source": [
    "features = [\n",
    "    'H_age', 'A_age',\n",
    "    'H_TMV', 'A_TMV',\n",
    "    'H_Form03', 'A_Form03',\n",
    "    'H_Form05', 'A_Form05',\n",
    "    'H_MeanShots03', 'A_MeanShots03',\n",
    "    'H_MeanShots05', 'A_MeanShots05',\n",
    "    'H_MeanShotsOnTarget03', 'A_MeanShotsOnTarget03',\n",
    "    'H_Better_MeanShotsOnTarget05', 'A_Better_MeanShotsOnTarget05'\n",
    "]\n",
    "\n",
    "ALGS = [\n",
    "    ('LR', LogisticRegression()),\n",
    "    ('LDA', LinearDiscriminantAnalysis()),\n",
    "    ('KNN', KNeighborsClassifier()),\n",
    "    ('CART', DecisionTreeClassifier()),\n",
    "    ('NB', GaussianNB()),\n",
    "    ('SVM', SVC())\n",
    "]\n",
    "\n",
    "print(model_data[features].shape)\n",
    "model_data[features].head()\n"
   ]
  },
  {
   "cell_type": "markdown",
   "metadata": {},
   "source": [
    "### Basic compraison: "
   ]
  },
  {
   "cell_type": "code",
   "execution_count": 5,
   "metadata": {},
   "outputs": [
    {
     "name": "stdout",
     "output_type": "stream",
     "text": [
      "Alg/res.mean/res.std\n",
      "LR: 0.575384 (0.004001)\n",
      "LDA: 0.573406 (0.006841)\n",
      "KNN: 0.502882 (0.008139)\n",
      "CART: 0.464657 (0.009444)\n",
      "NB: 0.514088 (0.005140)\n",
      "SVM: 0.524302 (0.009686)\n"
     ]
    },
    {
     "data": {
      "image/png": "[encoded data removed]",
      "text/plain": [
       "<matplotlib.figure.Figure at 0x105f5e290>"
      ]
     },
     "metadata": {},
     "output_type": "display_data"
    }
   ],
   "source": [
    "X = model_data[features]\n",
    "y = model_data['Result']\n",
    "\n",
    "results = []\n",
    "names = []\n",
    "print (\"Alg/res.mean/res.std\")\n",
    "for name, model in ALGS:\n",
    "    cross_validator = model_selection.KFold(n_splits=4, shuffle=True)\n",
    "    res = model_selection.cross_val_score(model, X, y,\n",
    "                                          cv=cross_validator,\n",
    "                                          scoring='accuracy')\n",
    "    results.append(res)\n",
    "    names.append(name)\n",
    "    info = \"%s: %f (%f)\" % (name, res.mean(), res.std())\n",
    "    print(info)\n",
    "\n",
    "fig = plt.figure()\n",
    "fig.suptitle('different algorithms comparison')\n",
    "ax = fig.add_subplot(111)\n",
    "plt.boxplot(results)\n",
    "ax.set_xticklabels(names)\n",
    "plt.show()\n"
   ]
  },
  {
   "cell_type": "markdown",
   "metadata": {},
   "source": [
    "### Basic comparison with preprocessing:"
   ]
  },
  {
   "cell_type": "code",
   "execution_count": 6,
   "metadata": {},
   "outputs": [
    {
     "name": "stdout",
     "output_type": "stream",
     "text": [
      "Alg/res.mean/res.std\n",
      "LR: 0.575546 (0.013880)\n",
      "LDA: 0.572747 (0.008709)\n",
      "KNN: 0.509805 (0.014218)\n",
      "CART: 0.454109 (0.014331)\n",
      "NB: 0.517220 (0.004181)\n",
      "SVM: 0.579500 (0.013818)\n"
     ]
    },
    {
     "data": {
      "image/png": "[encoded data removed]",
      "text/plain": [
       "<matplotlib.figure.Figure at 0x10ad68410>"
      ]
     },
     "metadata": {},
     "output_type": "display_data"
    }
   ],
   "source": [
    "X = preprocessing.scale(model_data[features])\n",
    "y = model_data['Result']\n",
    "\n",
    "results = []\n",
    "names = []\n",
    "print (\"Alg/res.mean/res.std\")\n",
    "for name, model in ALGS:\n",
    "    cross_validator = model_selection.KFold(n_splits=4, shuffle=True)\n",
    "    res = model_selection.cross_val_score(model, X, y,\n",
    "                                          cv=cross_validator,\n",
    "                                          scoring='accuracy')\n",
    "    results.append(res)\n",
    "    names.append(name)\n",
    "    info = \"%s: %f (%f)\" % (name, res.mean(), res.std())\n",
    "    print(info)\n",
    "\n",
    "fig = plt.figure()\n",
    "fig.suptitle('different algorithms comparison')\n",
    "ax = fig.add_subplot(111)\n",
    "plt.boxplot(results)\n",
    "ax.set_xticklabels(names)\n",
    "plt.show()\n"
   ]
  }
 ],
 "metadata": {
  "kernelspec": {
   "display_name": "Python 2",
   "language": "python",
   "name": "python2"
  },
  "language_info": {
   "codemirror_mode": {
    "name": "ipython",
    "version": 2
   },
   "file_extension": ".py",
   "mimetype": "text/x-python",
   "name": "python",
   "nbconvert_exporter": "python",
   "pygments_lexer": "ipython2",
   "version": "2.7.10"
  }
 },
 "nbformat": 4,
 "nbformat_minor": 2
}
