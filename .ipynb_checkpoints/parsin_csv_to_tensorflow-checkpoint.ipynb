{
 "cells": [
  {
   "cell_type": "code",
   "execution_count": 3,
   "metadata": {
    "collapsed": false
   },
   "outputs": [
    {
     "data": {
      "text/plain": [
       "['Match_id',\n",
       " 'League_id',\n",
       " 'Season',\n",
       " 'Stage',\n",
       " 'Date',\n",
       " 'H_team',\n",
       " 'A_team',\n",
       " 'Result',\n",
       " 'B365H',\n",
       " 'B365D',\n",
       " 'B365A',\n",
       " 'H_Speed',\n",
       " 'H_Pass',\n",
       " 'H_Shoot',\n",
       " 'H_Pressure',\n",
       " 'H_chPass',\n",
       " 'H_chCross',\n",
       " 'H_dAggr',\n",
       " 'H_dWidth',\n",
       " 'A_Speed',\n",
       " 'A_Pass',\n",
       " 'A_Shoot',\n",
       " 'A_Pressure',\n",
       " 'A_chPass',\n",
       " 'A_chCross',\n",
       " 'A_dAggr',\n",
       " 'A_dWidth',\n",
       " 'H_age',\n",
       " 'A_age',\n",
       " 'H_TMV',\n",
       " 'A_TMV']"
      ]
     },
     "execution_count": 3,
     "metadata": {},
     "output_type": "execute_result"
    }
   ],
   "source": [
    "import pandas as pd\n",
    "import sklearn.model_selection as skl\n",
    "import numpy as np\n",
    "\n",
    "ML_DATASET = \"learning_vectors01.csv\"\n",
    "\n",
    "data = pd.read_csv(ML_DATASET)\n",
    "\n",
    "list(data.columns.values)\n"
   ]
  },
  {
   "cell_type": "code",
   "execution_count": 54,
   "metadata": {
    "collapsed": false
   },
   "outputs": [
    {
     "name": "stdout",
     "output_type": "stream",
     "text": [
      "(4256, 24) (1824, 24) (4256, 1) (1824, 1)\n"
     ]
    }
   ],
   "source": []
  }
 ],
 "metadata": {
  "kernelspec": {
   "display_name": "tensorflow_env",
   "language": "python",
   "name": "tensorflow_env"
  },
  "language_info": {
   "codemirror_mode": {
    "name": "ipython",
    "version": 3
   },
   "file_extension": ".py",
   "mimetype": "text/x-python",
   "name": "python",
   "nbconvert_exporter": "python",
   "pygments_lexer": "ipython3",
   "version": "3.6.0"
  }
 },
 "nbformat": 4,
 "nbformat_minor": 2
}
