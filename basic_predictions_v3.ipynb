{
 "cells": [
  {
   "cell_type": "markdown",
   "metadata": {},
   "source": [
    "# Predictions based on second vector"
   ]
  },
  {
   "cell_type": "code",
   "execution_count": 1,
   "metadata": {},
   "outputs": [],
   "source": [
    "import pandas as pd\n",
    "from sklearn import model_selection\n",
    "from sklearn.linear_model import LogisticRegression\n",
    "from sklearn.tree import DecisionTreeClassifier\n",
    "from sklearn.neighbors import KNeighborsClassifier\n",
    "from sklearn.discriminant_analysis import LinearDiscriminantAnalysis\n",
    "from sklearn.naive_bayes import GaussianNB\n",
    "from sklearn.svm import SVC\n",
    "import matplotlib.pyplot as plt\n"
   ]
  },
  {
   "cell_type": "markdown",
   "metadata": {},
   "source": [
    "## Parameters:\n",
    "* Season\n",
    "* Stage\n",
    "* Date\n",
    "* WIN DRAW LOOSE\n",
    "\n",
    "BOTH TEAMS:\n",
    "* Age\n",
    "* TMV (Total Market Value)\n"
   ]
  },
  {
   "cell_type": "code",
   "execution_count": 3,
   "metadata": {},
   "outputs": [
    {
     "data": {
      "text/html": [
       "<div>\n",
       "<style>\n",
       "    .dataframe thead tr:only-child th {\n",
       "        text-align: right;\n",
       "    }\n",
       "\n",
       "    .dataframe thead th {\n",
       "        text-align: left;\n",
       "    }\n",
       "\n",
       "    .dataframe tbody tr th {\n",
       "        vertical-align: top;\n",
       "    }\n",
       "</style>\n",
       "<table border=\"1\" class=\"dataframe\">\n",
       "  <thead>\n",
       "    <tr style=\"text-align: right;\">\n",
       "      <th></th>\n",
       "      <th>League_id</th>\n",
       "      <th>Season</th>\n",
       "      <th>Stage</th>\n",
       "      <th>Date</th>\n",
       "      <th>H_team</th>\n",
       "      <th>A_team</th>\n",
       "      <th>Result</th>\n",
       "      <th>H_age</th>\n",
       "      <th>A_age</th>\n",
       "      <th>H_TMV</th>\n",
       "      <th>A_TMV</th>\n",
       "    </tr>\n",
       "    <tr>\n",
       "      <th>Match_id</th>\n",
       "      <th></th>\n",
       "      <th></th>\n",
       "      <th></th>\n",
       "      <th></th>\n",
       "      <th></th>\n",
       "      <th></th>\n",
       "      <th></th>\n",
       "      <th></th>\n",
       "      <th></th>\n",
       "      <th></th>\n",
       "      <th></th>\n",
       "    </tr>\n",
       "  </thead>\n",
       "  <tbody>\n",
       "    <tr>\n",
       "      <th>1730</th>\n",
       "      <td>1729</td>\n",
       "      <td>2008/2009</td>\n",
       "      <td>1</td>\n",
       "      <td>2008-08-16</td>\n",
       "      <td>Arsenal</td>\n",
       "      <td>West Bromwich Albion</td>\n",
       "      <td>0</td>\n",
       "      <td>21.3</td>\n",
       "      <td>24.6</td>\n",
       "      <td>250.0</td>\n",
       "      <td>64.0</td>\n",
       "    </tr>\n",
       "    <tr>\n",
       "      <th>1731</th>\n",
       "      <td>1729</td>\n",
       "      <td>2008/2009</td>\n",
       "      <td>1</td>\n",
       "      <td>2008-08-16</td>\n",
       "      <td>Sunderland</td>\n",
       "      <td>Liverpool</td>\n",
       "      <td>2</td>\n",
       "      <td>24.9</td>\n",
       "      <td>23.9</td>\n",
       "      <td>91.0</td>\n",
       "      <td>257.0</td>\n",
       "    </tr>\n",
       "    <tr>\n",
       "      <th>1732</th>\n",
       "      <td>1729</td>\n",
       "      <td>2008/2009</td>\n",
       "      <td>1</td>\n",
       "      <td>2008-08-16</td>\n",
       "      <td>West Ham United</td>\n",
       "      <td>Wigan Athletic</td>\n",
       "      <td>0</td>\n",
       "      <td>24.3</td>\n",
       "      <td>25.7</td>\n",
       "      <td>80.0</td>\n",
       "      <td>61.0</td>\n",
       "    </tr>\n",
       "    <tr>\n",
       "      <th>1734</th>\n",
       "      <td>1729</td>\n",
       "      <td>2008/2009</td>\n",
       "      <td>1</td>\n",
       "      <td>2008-08-16</td>\n",
       "      <td>Everton</td>\n",
       "      <td>Blackburn Rovers</td>\n",
       "      <td>2</td>\n",
       "      <td>24.4</td>\n",
       "      <td>26.4</td>\n",
       "      <td>162.0</td>\n",
       "      <td>86.0</td>\n",
       "    </tr>\n",
       "    <tr>\n",
       "      <th>1735</th>\n",
       "      <td>1729</td>\n",
       "      <td>2008/2009</td>\n",
       "      <td>1</td>\n",
       "      <td>2008-08-16</td>\n",
       "      <td>Middlesbrough</td>\n",
       "      <td>Tottenham Hotspur</td>\n",
       "      <td>0</td>\n",
       "      <td>22.3</td>\n",
       "      <td>22.5</td>\n",
       "      <td>73.0</td>\n",
       "      <td>212.0</td>\n",
       "    </tr>\n",
       "  </tbody>\n",
       "</table>\n",
       "</div>"
      ],
      "text/plain": [
       "          League_id     Season  Stage        Date           H_team  \\\n",
       "Match_id                                                             \n",
       "1730           1729  2008/2009      1  2008-08-16          Arsenal   \n",
       "1731           1729  2008/2009      1  2008-08-16       Sunderland   \n",
       "1732           1729  2008/2009      1  2008-08-16  West Ham United   \n",
       "1734           1729  2008/2009      1  2008-08-16          Everton   \n",
       "1735           1729  2008/2009      1  2008-08-16    Middlesbrough   \n",
       "\n",
       "                        A_team  Result  H_age  A_age  H_TMV  A_TMV  \n",
       "Match_id                                                            \n",
       "1730      West Bromwich Albion       0   21.3   24.6  250.0   64.0  \n",
       "1731                 Liverpool       2   24.9   23.9   91.0  257.0  \n",
       "1732            Wigan Athletic       0   24.3   25.7   80.0   61.0  \n",
       "1734          Blackburn Rovers       2   24.4   26.4  162.0   86.0  \n",
       "1735         Tottenham Hotspur       0   22.3   22.5   73.0  212.0  "
      ]
     },
     "execution_count": 3,
     "metadata": {},
     "output_type": "execute_result"
    }
   ],
   "source": [
    "match2 = pd.read_csv('learning_vectors/v03/version03-transfermarkt.csv', sep=',')\n",
    "match2 = match2.set_index(['Match_id'])\n",
    "\n",
    "match2 = match2.sort_values(['League_id', 'Date'])\n",
    "match2.columns = ['League_id', 'Season', 'Stage', 'Date', 'H_team', 'A_team', 'Result',\n",
    "                  'H_age', 'A_age',\n",
    "                  'H_TMV', 'A_TMV']\n",
    "match2.head()\n"
   ]
  },
  {
   "cell_type": "code",
   "execution_count": 7,
   "metadata": {
    "scrolled": true
   },
   "outputs": [
    {
     "name": "stdout",
     "output_type": "stream",
     "text": [
      "League_id    0\n",
      "Season       0\n",
      "Stage        0\n",
      "Date         0\n",
      "H_team       0\n",
      "A_team       0\n",
      "Result       0\n",
      "H_age        0\n",
      "A_age        0\n",
      "H_TMV        0\n",
      "A_TMV        0\n",
      "dtype: int64\n"
     ]
    },
    {
     "data": {
      "text/plain": [
       "False"
      ]
     },
     "execution_count": 7,
     "metadata": {},
     "output_type": "execute_result"
    }
   ],
   "source": [
    "#Check for nulls\n",
    "print(match2.isnull().sum())\n",
    "match2.isnull().any().any()\n"
   ]
  },
  {
   "cell_type": "markdown",
   "metadata": {},
   "source": [
    "## Different algorithms comparison"
   ]
  },
  {
   "cell_type": "code",
   "execution_count": 9,
   "metadata": {},
   "outputs": [
    {
     "name": "stdout",
     "output_type": "stream",
     "text": [
      "Alg/res.mean/res.std\n",
      "LR: 0.535033 (0.018720)\n",
      "LDA: 0.534868 (0.008138)\n",
      "KNN: 0.475164 (0.005647)\n",
      "CART: 0.413651 (0.007914)\n",
      "NB: 0.526645 (0.011362)\n",
      "SVM: 0.458388 (0.013590)\n"
     ]
    },
    {
     "data": {
      "image/png": "[encoded data removed]",
      "text/plain": [
       "<matplotlib.figure.Figure at 0x110fddb10>"
      ]
     },
     "metadata": {},
     "output_type": "display_data"
    }
   ],
   "source": [
    "predictors = ['H_age', 'A_age', 'H_TMV', 'A_TMV']\n",
    "\n",
    "X = match2[predictors]\n",
    "y = match2['Result']\n",
    "\n",
    "algs = []\n",
    "algs.append(('LR', LogisticRegression()))\n",
    "algs.append(('LDA', LinearDiscriminantAnalysis()))\n",
    "algs.append(('KNN', KNeighborsClassifier()))\n",
    "algs.append(('CART', DecisionTreeClassifier()))\n",
    "algs.append(('NB', GaussianNB()))\n",
    "algs.append(('SVM', SVC()))\n",
    "\n",
    "results = []\n",
    "names = []\n",
    "print (\"Alg/res.mean/res.std\")\n",
    "for name, model in algs:\n",
    "    cross_validator = model_selection.KFold(n_splits=4, shuffle=True)\n",
    "    res = model_selection.cross_val_score(model, X, y,\n",
    "                                          cv=cross_validator,\n",
    "                                          scoring='accuracy')\n",
    "    results.append(res)\n",
    "    names.append(name)\n",
    "    info = \"%s: %f (%f)\" % (name, res.mean(), res.std())\n",
    "    print(info)\n",
    "\n",
    "fig = plt.figure()\n",
    "fig.suptitle('different algorithms comparison')\n",
    "ax = fig.add_subplot(111)\n",
    "plt.boxplot(results)\n",
    "ax.set_xticklabels(names)\n",
    "plt.show()\n"
   ]
  }
 ],
 "metadata": {
  "kernelspec": {
   "display_name": "Python 2",
   "language": "python",
   "name": "python2"
  },
  "language_info": {
   "codemirror_mode": {
    "name": "ipython",
    "version": 2
   },
   "file_extension": ".py",
   "mimetype": "text/x-python",
   "name": "python",
   "nbconvert_exporter": "python",
   "pygments_lexer": "ipython2",
   "version": "2.7.10"
  }
 },
 "nbformat": 4,
 "nbformat_minor": 2
}
