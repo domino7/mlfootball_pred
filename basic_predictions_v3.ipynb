{
 "cells": [
  {
   "cell_type": "markdown",
   "metadata": {},
   "source": [
    "# Predictions based on third vector - v3"
   ]
  },
  {
   "cell_type": "code",
   "execution_count": 1,
   "metadata": {},
   "outputs": [],
   "source": [
    "import pandas as pd\n",
    "from sklearn import model_selection\n",
    "from sklearn import preprocessing\n",
    "from sklearn.linear_model import LogisticRegression\n",
    "from sklearn.tree import DecisionTreeClassifier\n",
    "from sklearn.neighbors import KNeighborsClassifier\n",
    "from sklearn.discriminant_analysis import LinearDiscriminantAnalysis\n",
    "from sklearn.naive_bayes import GaussianNB\n",
    "from sklearn.svm import SVC\n",
    "import matplotlib.pyplot as plt\n"
   ]
  },
  {
   "cell_type": "markdown",
   "metadata": {},
   "source": [
    "## Features:\n",
    "\n",
    "* Age\n",
    "* TMV (Total Market Value)"
   ]
  },
  {
   "cell_type": "code",
   "execution_count": 2,
   "metadata": {},
   "outputs": [
    {
     "name": "stdout",
     "output_type": "stream",
     "text": [
      "(6080, 11)\n"
     ]
    }
   ],
   "source": [
    "model_data = pd.read_csv('learning_vectors/v03/version03-transfermarkt.csv', sep=',')\n",
    "model_data = model_data.set_index(['Match_id'])\n",
    "\n",
    "model_data = model_data.sort_values(['League_id', 'Date'])\n",
    "model_data.columns = ['League_id', 'Season', 'Stage', 'Date', 'H_team', 'A_team', 'Result',\n",
    "                      'H_age', 'A_age',\n",
    "                      'H_TMV', 'A_TMV']\n",
    "\n",
    "print(model_data.shape)\n",
    "# model_data.head()\n"
   ]
  },
  {
   "cell_type": "code",
   "execution_count": 3,
   "metadata": {
    "scrolled": true
   },
   "outputs": [
    {
     "name": "stdout",
     "output_type": "stream",
     "text": [
      "False\n"
     ]
    }
   ],
   "source": [
    "#Check for nulls\n",
    "model_data.isnull().sum()\n",
    "print(model_data.isnull().any().any())\n"
   ]
  },
  {
   "cell_type": "markdown",
   "metadata": {},
   "source": [
    "## Different algorithms comparison"
   ]
  },
  {
   "cell_type": "code",
   "execution_count": 4,
   "metadata": {},
   "outputs": [
    {
     "name": "stdout",
     "output_type": "stream",
     "text": [
      "(6080, 4)\n"
     ]
    },
    {
     "data": {
      "text/html": [
       "<div>\n",
       "<style>\n",
       "    .dataframe thead tr:only-child th {\n",
       "        text-align: right;\n",
       "    }\n",
       "\n",
       "    .dataframe thead th {\n",
       "        text-align: left;\n",
       "    }\n",
       "\n",
       "    .dataframe tbody tr th {\n",
       "        vertical-align: top;\n",
       "    }\n",
       "</style>\n",
       "<table border=\"1\" class=\"dataframe\">\n",
       "  <thead>\n",
       "    <tr style=\"text-align: right;\">\n",
       "      <th></th>\n",
       "      <th>H_age</th>\n",
       "      <th>A_age</th>\n",
       "      <th>H_TMV</th>\n",
       "      <th>A_TMV</th>\n",
       "    </tr>\n",
       "    <tr>\n",
       "      <th>Match_id</th>\n",
       "      <th></th>\n",
       "      <th></th>\n",
       "      <th></th>\n",
       "      <th></th>\n",
       "    </tr>\n",
       "  </thead>\n",
       "  <tbody>\n",
       "    <tr>\n",
       "      <th>1730</th>\n",
       "      <td>21.3</td>\n",
       "      <td>24.6</td>\n",
       "      <td>250.0</td>\n",
       "      <td>64.0</td>\n",
       "    </tr>\n",
       "    <tr>\n",
       "      <th>1731</th>\n",
       "      <td>24.9</td>\n",
       "      <td>23.9</td>\n",
       "      <td>91.0</td>\n",
       "      <td>257.0</td>\n",
       "    </tr>\n",
       "    <tr>\n",
       "      <th>1732</th>\n",
       "      <td>24.3</td>\n",
       "      <td>25.7</td>\n",
       "      <td>80.0</td>\n",
       "      <td>61.0</td>\n",
       "    </tr>\n",
       "    <tr>\n",
       "      <th>1734</th>\n",
       "      <td>24.4</td>\n",
       "      <td>26.4</td>\n",
       "      <td>162.0</td>\n",
       "      <td>86.0</td>\n",
       "    </tr>\n",
       "    <tr>\n",
       "      <th>1735</th>\n",
       "      <td>22.3</td>\n",
       "      <td>22.5</td>\n",
       "      <td>73.0</td>\n",
       "      <td>212.0</td>\n",
       "    </tr>\n",
       "  </tbody>\n",
       "</table>\n",
       "</div>"
      ],
      "text/plain": [
       "          H_age  A_age  H_TMV  A_TMV\n",
       "Match_id                            \n",
       "1730       21.3   24.6  250.0   64.0\n",
       "1731       24.9   23.9   91.0  257.0\n",
       "1732       24.3   25.7   80.0   61.0\n",
       "1734       24.4   26.4  162.0   86.0\n",
       "1735       22.3   22.5   73.0  212.0"
      ]
     },
     "execution_count": 4,
     "metadata": {},
     "output_type": "execute_result"
    }
   ],
   "source": [
    "features = ['H_age', 'A_age', 'H_TMV', 'A_TMV']\n",
    "\n",
    "ALGS = [\n",
    "    ('LR', LogisticRegression()),\n",
    "    ('LDA', LinearDiscriminantAnalysis()),\n",
    "    ('KNN', KNeighborsClassifier()),\n",
    "    ('CART', DecisionTreeClassifier()),\n",
    "    ('NB', GaussianNB()),\n",
    "    ('SVM', SVC())\n",
    "]\n",
    "\n",
    "print(model_data[features].shape)\n",
    "model_data[features].head()\n"
   ]
  },
  {
   "cell_type": "markdown",
   "metadata": {},
   "source": [
    "### Basic compraison: "
   ]
  },
  {
   "cell_type": "code",
   "execution_count": 5,
   "metadata": {},
   "outputs": [
    {
     "name": "stdout",
     "output_type": "stream",
     "text": [
      "Alg/res.mean/res.std\n",
      "LR: 0.535526 (0.010780)\n",
      "LDA: 0.536184 (0.013483)\n",
      "KNN: 0.479276 (0.002106)\n",
      "CART: 0.418914 (0.010714)\n",
      "NB: 0.524836 (0.015184)\n",
      "SVM: 0.452796 (0.004591)\n"
     ]
    },
    {
     "data": {
      "image/png": "[encoded data removed]",
      "text/plain": [
       "<matplotlib.figure.Figure at 0x112cc46d0>"
      ]
     },
     "metadata": {},
     "output_type": "display_data"
    }
   ],
   "source": [
    "X = model_data[features]\n",
    "y = model_data['Result']\n",
    "\n",
    "results = []\n",
    "names = []\n",
    "print (\"Alg/res.mean/res.std\")\n",
    "for name, model in ALGS:\n",
    "    cross_validator = model_selection.KFold(n_splits=4, shuffle=True)\n",
    "    res = model_selection.cross_val_score(model, X, y,\n",
    "                                          cv=cross_validator,\n",
    "                                          scoring='accuracy')\n",
    "    results.append(res)\n",
    "    names.append(name)\n",
    "    info = \"%s: %f (%f)\" % (name, res.mean(), res.std())\n",
    "    print(info)\n",
    "\n",
    "fig = plt.figure()\n",
    "fig.suptitle('different algorithms comparison')\n",
    "ax = fig.add_subplot(111)\n",
    "plt.boxplot(results)\n",
    "ax.set_xticklabels(names)\n",
    "plt.show()\n"
   ]
  },
  {
   "cell_type": "markdown",
   "metadata": {},
   "source": [
    "### Basic comparison with preprocessing:"
   ]
  },
  {
   "cell_type": "code",
   "execution_count": 6,
   "metadata": {},
   "outputs": [
    {
     "name": "stdout",
     "output_type": "stream",
     "text": [
      "Alg/res.mean/res.std\n",
      "LR: 0.535033 (0.004997)\n",
      "LDA: 0.536513 (0.006128)\n",
      "KNN: 0.491283 (0.006747)\n",
      "CART: 0.421217 (0.005230)\n",
      "NB: 0.524507 (0.007317)\n",
      "SVM: 0.533224 (0.007847)\n"
     ]
    },
    {
     "data": {
      "image/png": "[encoded data removed]",
      "text/plain": [
       "<matplotlib.figure.Figure at 0x112cc4150>"
      ]
     },
     "metadata": {},
     "output_type": "display_data"
    }
   ],
   "source": [
    "X = preprocessing.scale(model_data[features])\n",
    "y = model_data['Result']\n",
    "\n",
    "results = []\n",
    "names = []\n",
    "print (\"Alg/res.mean/res.std\")\n",
    "for name, model in ALGS:\n",
    "    cross_validator = model_selection.KFold(n_splits=4, shuffle=True)\n",
    "    res = model_selection.cross_val_score(model, X, y,\n",
    "                                          cv=cross_validator,\n",
    "                                          scoring='accuracy')\n",
    "    results.append(res)\n",
    "    names.append(name)\n",
    "    info = \"%s: %f (%f)\" % (name, res.mean(), res.std())\n",
    "    print(info)\n",
    "\n",
    "fig = plt.figure()\n",
    "fig.suptitle('different algorithms comparison')\n",
    "ax = fig.add_subplot(111)\n",
    "plt.boxplot(results)\n",
    "ax.set_xticklabels(names)\n",
    "plt.show()\n"
   ]
  }
 ],
 "metadata": {
  "kernelspec": {
   "display_name": "Python 2",
   "language": "python",
   "name": "python2"
  },
  "language_info": {
   "codemirror_mode": {
    "name": "ipython",
    "version": 2
   },
   "file_extension": ".py",
   "mimetype": "text/x-python",
   "name": "python",
   "nbconvert_exporter": "python",
   "pygments_lexer": "ipython2",
   "version": "2.7.10"
  }
 },
 "nbformat": 4,
 "nbformat_minor": 2
}
