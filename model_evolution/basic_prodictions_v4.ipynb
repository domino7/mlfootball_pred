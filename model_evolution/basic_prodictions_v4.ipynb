{
 "cells": [
  {
   "cell_type": "markdown",
   "metadata": {},
   "source": [
    "# Predictions based on fourth vector - v4"
   ]
  },
  {
   "cell_type": "code",
   "execution_count": 1,
   "metadata": {},
   "outputs": [],
   "source": [
    "import pandas as pd\n",
    "from sklearn import model_selection\n",
    "from sklearn import preprocessing\n",
    "from sklearn.linear_model import LogisticRegression\n",
    "from sklearn.tree import DecisionTreeClassifier\n",
    "from sklearn.neighbors import KNeighborsClassifier\n",
    "from sklearn.discriminant_analysis import LinearDiscriminantAnalysis\n",
    "from sklearn.naive_bayes import GaussianNB\n",
    "from sklearn.svm import SVC\n",
    "import matplotlib.pyplot as plt\n"
   ]
  },
  {
   "cell_type": "markdown",
   "metadata": {},
   "source": [
    "## Features:\n",
    "\n",
    "* Age\n",
    "* TMV (Total Market Value)\n",
    "* Forma (zwycięstwa/przegrane) z ostatnich 3 meczów\n",
    "* Forma (zwycięstwa/przegrane) z ostatnich 5 meczów \n",
    "* Średnia liczba oddanych strzałów z ostatnich 3 meczów\n",
    "* Średnia liczba oddanych strzałów z ostatnich 5 meczów\n",
    "* Średnia liczba strzałów na bramkę z ostatnich 3 meczów\n",
    "* Średnia liczba strzałów na bramkę z ostatnich 5 meczów"
   ]
  },
  {
   "cell_type": "code",
   "execution_count": 2,
   "metadata": {},
   "outputs": [
    {
     "name": "stdout",
     "output_type": "stream",
     "text": [
      "(6069, 30)\n"
     ]
    }
   ],
   "source": [
    "model_data = pd.read_csv('learning_vectors/v04/version04-shotstransfermarkt_noNaNs.csv', sep=',')\n",
    "\n",
    "# model_data = model_data.set_index(['Match_id'])\n",
    "# model_data = model_data.sort_values(['League_id', 'Date'])\n",
    "# model_data.columns = [\n",
    "#     'League_id', 'Season', 'Stage', 'Date', 'H_team', 'A_team', 'Result',\n",
    "#     'FTHG', 'FTAG', 'HS', 'AS', 'HST', 'AST',\n",
    "#     'H_age', 'A_age',\n",
    "#     'H_TMV', 'A_TMV',\n",
    "#     'H_Form03', 'A_Form03',\n",
    "#     'H_Form05', 'A_Form05',\n",
    "#     'H_MeanShots03', 'A_MeanShots03',\n",
    "#     'H_MeanShots05', 'A_MeanShots05',\n",
    "#     'H_MeanShotsOnTarget03', 'A_MeanShotsOnTarget03',\n",
    "#     'H_Better_MeanShotsOnTarget05', 'A_Better_MeanShotsOnTarget05'\n",
    "# ]\n",
    "\n",
    "print(model_data.shape)\n",
    "# model_data.head()\n"
   ]
  },
  {
   "cell_type": "code",
   "execution_count": 3,
   "metadata": {},
   "outputs": [
    {
     "name": "stdout",
     "output_type": "stream",
     "text": [
      "False\n"
     ]
    }
   ],
   "source": [
    "#Check for nulls\n",
    "model_data.isnull().sum()\n",
    "print(model_data.isnull().any().any())\n"
   ]
  },
  {
   "cell_type": "markdown",
   "metadata": {},
   "source": [
    "## Different algorithms comparison"
   ]
  },
  {
   "cell_type": "code",
   "execution_count": 4,
   "metadata": {},
   "outputs": [
    {
     "name": "stdout",
     "output_type": "stream",
     "text": [
      "(6069, 16)\n"
     ]
    },
    {
     "data": {
      "text/html": [
       "<div>\n",
       "<style>\n",
       "    .dataframe thead tr:only-child th {\n",
       "        text-align: right;\n",
       "    }\n",
       "\n",
       "    .dataframe thead th {\n",
       "        text-align: left;\n",
       "    }\n",
       "\n",
       "    .dataframe tbody tr th {\n",
       "        vertical-align: top;\n",
       "    }\n",
       "</style>\n",
       "<table border=\"1\" class=\"dataframe\">\n",
       "  <thead>\n",
       "    <tr style=\"text-align: right;\">\n",
       "      <th></th>\n",
       "      <th>H_age</th>\n",
       "      <th>A_age</th>\n",
       "      <th>H_TMV</th>\n",
       "      <th>A_TMV</th>\n",
       "      <th>H_Form03</th>\n",
       "      <th>A_Form03</th>\n",
       "      <th>H_Form05</th>\n",
       "      <th>A_Form05</th>\n",
       "      <th>H_MeanShots03</th>\n",
       "      <th>A_MeanShots03</th>\n",
       "      <th>H_MeanShots05</th>\n",
       "      <th>A_MeanShots05</th>\n",
       "      <th>H_MeanShotsOnTarget03</th>\n",
       "      <th>A_MeanShotsOnTarget03</th>\n",
       "      <th>H_Better_MeanShotsOnTarget05</th>\n",
       "      <th>A_Better_MeanShotsOnTarget05</th>\n",
       "    </tr>\n",
       "  </thead>\n",
       "  <tbody>\n",
       "    <tr>\n",
       "      <th>0</th>\n",
       "      <td>21.3</td>\n",
       "      <td>24.6</td>\n",
       "      <td>250.0</td>\n",
       "      <td>64.0</td>\n",
       "      <td>4</td>\n",
       "      <td>1</td>\n",
       "      <td>7</td>\n",
       "      <td>1</td>\n",
       "      <td>19.000000</td>\n",
       "      <td>11.333333</td>\n",
       "      <td>15.8</td>\n",
       "      <td>10.2</td>\n",
       "      <td>10.666667</td>\n",
       "      <td>5.333333</td>\n",
       "      <td>9.4</td>\n",
       "      <td>4.2</td>\n",
       "    </tr>\n",
       "    <tr>\n",
       "      <th>1</th>\n",
       "      <td>24.9</td>\n",
       "      <td>23.9</td>\n",
       "      <td>91.0</td>\n",
       "      <td>257.0</td>\n",
       "      <td>0</td>\n",
       "      <td>6</td>\n",
       "      <td>3</td>\n",
       "      <td>12</td>\n",
       "      <td>5.333333</td>\n",
       "      <td>16.333333</td>\n",
       "      <td>7.0</td>\n",
       "      <td>15.0</td>\n",
       "      <td>2.333333</td>\n",
       "      <td>8.000000</td>\n",
       "      <td>3.8</td>\n",
       "      <td>8.0</td>\n",
       "    </tr>\n",
       "    <tr>\n",
       "      <th>2</th>\n",
       "      <td>24.3</td>\n",
       "      <td>25.7</td>\n",
       "      <td>80.0</td>\n",
       "      <td>61.0</td>\n",
       "      <td>4</td>\n",
       "      <td>3</td>\n",
       "      <td>5</td>\n",
       "      <td>5</td>\n",
       "      <td>10.666667</td>\n",
       "      <td>13.000000</td>\n",
       "      <td>11.6</td>\n",
       "      <td>14.6</td>\n",
       "      <td>5.666667</td>\n",
       "      <td>6.333333</td>\n",
       "      <td>7.0</td>\n",
       "      <td>8.0</td>\n",
       "    </tr>\n",
       "    <tr>\n",
       "      <th>3</th>\n",
       "      <td>24.4</td>\n",
       "      <td>26.4</td>\n",
       "      <td>162.0</td>\n",
       "      <td>86.0</td>\n",
       "      <td>6</td>\n",
       "      <td>4</td>\n",
       "      <td>10</td>\n",
       "      <td>4</td>\n",
       "      <td>10.000000</td>\n",
       "      <td>11.666667</td>\n",
       "      <td>11.4</td>\n",
       "      <td>11.8</td>\n",
       "      <td>5.333333</td>\n",
       "      <td>7.000000</td>\n",
       "      <td>6.0</td>\n",
       "      <td>6.4</td>\n",
       "    </tr>\n",
       "    <tr>\n",
       "      <th>4</th>\n",
       "      <td>22.3</td>\n",
       "      <td>22.5</td>\n",
       "      <td>73.0</td>\n",
       "      <td>212.0</td>\n",
       "      <td>7</td>\n",
       "      <td>4</td>\n",
       "      <td>11</td>\n",
       "      <td>7</td>\n",
       "      <td>10.000000</td>\n",
       "      <td>8.333333</td>\n",
       "      <td>11.2</td>\n",
       "      <td>9.2</td>\n",
       "      <td>6.666667</td>\n",
       "      <td>5.000000</td>\n",
       "      <td>6.2</td>\n",
       "      <td>5.4</td>\n",
       "    </tr>\n",
       "  </tbody>\n",
       "</table>\n",
       "</div>"
      ],
      "text/plain": [
       "   H_age  A_age  H_TMV  A_TMV  H_Form03  A_Form03  H_Form05  A_Form05  \\\n",
       "0   21.3   24.6  250.0   64.0         4         1         7         1   \n",
       "1   24.9   23.9   91.0  257.0         0         6         3        12   \n",
       "2   24.3   25.7   80.0   61.0         4         3         5         5   \n",
       "3   24.4   26.4  162.0   86.0         6         4        10         4   \n",
       "4   22.3   22.5   73.0  212.0         7         4        11         7   \n",
       "\n",
       "   H_MeanShots03  A_MeanShots03  H_MeanShots05  A_MeanShots05  \\\n",
       "0      19.000000      11.333333           15.8           10.2   \n",
       "1       5.333333      16.333333            7.0           15.0   \n",
       "2      10.666667      13.000000           11.6           14.6   \n",
       "3      10.000000      11.666667           11.4           11.8   \n",
       "4      10.000000       8.333333           11.2            9.2   \n",
       "\n",
       "   H_MeanShotsOnTarget03  A_MeanShotsOnTarget03  H_Better_MeanShotsOnTarget05  \\\n",
       "0              10.666667               5.333333                           9.4   \n",
       "1               2.333333               8.000000                           3.8   \n",
       "2               5.666667               6.333333                           7.0   \n",
       "3               5.333333               7.000000                           6.0   \n",
       "4               6.666667               5.000000                           6.2   \n",
       "\n",
       "   A_Better_MeanShotsOnTarget05  \n",
       "0                           4.2  \n",
       "1                           8.0  \n",
       "2                           8.0  \n",
       "3                           6.4  \n",
       "4                           5.4  "
      ]
     },
     "execution_count": 4,
     "metadata": {},
     "output_type": "execute_result"
    }
   ],
   "source": [
    "features = [\n",
    "    'H_age', 'A_age',\n",
    "    'H_TMV', 'A_TMV',\n",
    "    'H_Form03', 'A_Form03',\n",
    "    'H_Form05', 'A_Form05',\n",
    "    'H_MeanShots03', 'A_MeanShots03',\n",
    "    'H_MeanShots05', 'A_MeanShots05',\n",
    "    'H_MeanShotsOnTarget03', 'A_MeanShotsOnTarget03',\n",
    "    'H_Better_MeanShotsOnTarget05', 'A_Better_MeanShotsOnTarget05'\n",
    "]\n",
    "\n",
    "cross_validator = model_selection.KFold(n_splits=4, shuffle=True)\n",
    "scoring_type = 'accuracy'\n",
    "\n",
    "f = open('results_v4.txt','w')\n",
    "\n",
    "print(model_data[features].shape)\n",
    "model_data[features].head()"
   ]
  },
  {
   "cell_type": "code",
   "execution_count": 5,
   "metadata": {},
   "outputs": [],
   "source": [
    "ALGS = [\n",
    "    ('LR', LogisticRegression()),\n",
    "    ('LDA', LinearDiscriminantAnalysis()),\n",
    "    ('KNN', KNeighborsClassifier()),\n",
    "    ('CART', DecisionTreeClassifier()),\n",
    "    ('NB', GaussianNB()),\n",
    "    ('SVM', SVC())\n",
    "]\n",
    "\n",
    "def compare_algs(X, y, cross_validator, scoring_type, title=\"-- Other comparison --\"):\n",
    "    \n",
    "    print (title)\n",
    "    f.write(title+\"\\n\")\n",
    "\n",
    "    topic = \"Algo: \\tres.mean: \\tres.std:\"\n",
    "    print (topic)\n",
    "    f.write(topic+\"\\n\")\n",
    "    \n",
    "    results = []\n",
    "    names = []\n",
    "    for name, model in ALGS:\n",
    "        result = model_selection.cross_val_score(model, X, y,\n",
    "                                              cv=cross_validator,\n",
    "                                              scoring=scoring_type)\n",
    "        results.append(result)\n",
    "        names.append(name)\n",
    "        info = \"%s  \\t%f \\t(%f)\" % (name, result.mean(), result.std())\n",
    "        f.write(info+\"\\n\")\n",
    "        print(info)\n",
    "\n",
    "    f.write(\"\\n\\n\")\n",
    "\n",
    "    fig = plt.figure()\n",
    "    ax = fig.add_subplot(111)\n",
    "    plt.boxplot(results)\n",
    "    ax.set_xticklabels(names)\n",
    "    plt.show()\n",
    "\n"
   ]
  },
  {
   "cell_type": "code",
   "execution_count": 6,
   "metadata": {},
   "outputs": [],
   "source": [
    "ALGS = [\n",
    "    ('LR', LogisticRegression()),\n",
    "    ('LDA', LinearDiscriminantAnalysis()),\n",
    "    ('KNN', KNeighborsClassifier()),\n",
    "    ('CART', DecisionTreeClassifier()),\n",
    "    ('NB', GaussianNB()),\n",
    "    ('SVM', SVC())\n",
    "]\n",
    "\n",
    "def compare_algs(X, y, cross_validator, scoring_type, title=\"-- Other comparison --\"):\n",
    "    \n",
    "    print (title)\n",
    "    f.write(title+\"\\n\")\n",
    "\n",
    "    topic = \"Algo: \\tres.mean: \\tres.std:\"\n",
    "    print (topic)\n",
    "    f.write(topic+\"\\n\")\n",
    "    \n",
    "    results = []\n",
    "    names = []\n",
    "    for name, model in ALGS:\n",
    "        result = model_selection.cross_val_score(model, X, y,\n",
    "                                              cv=cross_validator,\n",
    "                                              scoring=scoring_type)\n",
    "        results.append(result)\n",
    "        names.append(name)\n",
    "        info = \"%s  \\t%f \\t(%f)\" % (name, result.mean(), result.std())\n",
    "        f.write(info+\"\\n\")\n",
    "        print(info)\n",
    "\n",
    "    f.write(\"\\n\\n\")\n",
    "\n",
    "    fig = plt.figure()\n",
    "    ax = fig.add_subplot(111)\n",
    "    plt.boxplot(results)\n",
    "    ax.set_xticklabels(names)\n",
    "    plt.show()\n"
   ]
  },
  {
   "cell_type": "markdown",
   "metadata": {},
   "source": [
    "### Basic compraison: "
   ]
  },
  {
   "cell_type": "code",
   "execution_count": 7,
   "metadata": {},
   "outputs": [
    {
     "name": "stdout",
     "output_type": "stream",
     "text": [
      "--- Basic comparison of algorithms  ---\n",
      "Algo: \tres.mean: \tres.std:\n",
      "LR  \t0.534683 \t(0.014467)\n",
      "LDA  \t0.532377 \t(0.007613)\n",
      "KNN  \t0.481796 \t(0.015618)\n",
      "CART  \t0.414732 \t(0.007900)\n",
      "NB  \t0.487063 \t(0.014832)\n",
      "SVM  \t0.468775 \t(0.013434)\n"
     ]
    },
    {
     "data": {
      "image/png": "[encoded data removed]",
      "text/plain": [
       "<matplotlib.figure.Figure at 0x114a48d10>"
      ]
     },
     "metadata": {},
     "output_type": "display_data"
    }
   ],
   "source": [
    "X = model_data[features]\n",
    "y = model_data['Result']\n",
    "\n",
    "title = \"--- Basic comparison of algorithms  ---\"\n",
    "\n",
    "compare_algs(X, y, cross_validator, scoring_type, title)\n"
   ]
  },
  {
   "cell_type": "markdown",
   "metadata": {},
   "source": [
    "### Basic comparison with preprocessing:"
   ]
  },
  {
   "cell_type": "code",
   "execution_count": 8,
   "metadata": {},
   "outputs": [
    {
     "name": "stdout",
     "output_type": "stream",
     "text": [
      "--- Basic comparison with preprocessing  ---\n",
      "Algo: \tres.mean: \tres.std:\n",
      "LR  \t0.532710 \t(0.010057)\n",
      "LDA  \t0.533861 \t(0.006527)\n",
      "KNN  \t0.479977 \t(0.012561)\n",
      "CART  \t0.414400 \t(0.009036)\n",
      "NB  \t0.486735 \t(0.006295)\n",
      "SVM  \t0.529908 \t(0.015328)\n"
     ]
    },
    {
     "data": {
      "image/png": "[encoded data removed]",
      "text/plain": [
       "<matplotlib.figure.Figure at 0x114a5b990>"
      ]
     },
     "metadata": {},
     "output_type": "display_data"
    }
   ],
   "source": [
    "X = preprocessing.scale(model_data[features])\n",
    "y = model_data['Result']\n",
    "\n",
    "title = \"--- Basic comparison with preprocessing  ---\"\n",
    "\n",
    "compare_algs(X, y, cross_validator, scoring_type, title)\n"
   ]
  }
 ],
 "metadata": {
  "kernelspec": {
   "display_name": "Python 2",
   "language": "python",
   "name": "python2"
  },
  "language_info": {
   "codemirror_mode": {
    "name": "ipython",
    "version": 2
   },
   "file_extension": ".py",
   "mimetype": "text/x-python",
   "name": "python",
   "nbconvert_exporter": "python",
   "pygments_lexer": "ipython2",
   "version": "2.7.10"
  }
 },
 "nbformat": 4,
 "nbformat_minor": 2
}
