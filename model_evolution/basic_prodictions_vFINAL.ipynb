{
 "cells": [
  {
   "cell_type": "markdown",
   "metadata": {},
   "source": [
    "# Predictions based on final vector - vFINAL"
   ]
  },
  {
   "cell_type": "code",
   "execution_count": 1,
   "metadata": {},
   "outputs": [],
   "source": [
    "import pandas as pd\n",
    "from sklearn import model_selection\n",
    "from sklearn import preprocessing\n",
    "from sklearn.linear_model import LogisticRegression\n",
    "from sklearn.tree import DecisionTreeClassifier\n",
    "from sklearn.neighbors import KNeighborsClassifier\n",
    "from sklearn.discriminant_analysis import LinearDiscriminantAnalysis\n",
    "from sklearn.naive_bayes import GaussianNB\n",
    "from sklearn.svm import SVC\n",
    "import matplotlib.pyplot as plt\n"
   ]
  },
  {
   "cell_type": "markdown",
   "metadata": {},
   "source": [
    "## Features:\n",
    "\n",
    "* TMV (Total Market Value)\n",
    "* Forma (zwycięstwa/przegrane) z ostatnich 3 meczów\n",
    "* Ważona średnia liczba oddanych strzałów z ostatnich 5 meczów\n",
    "* Ważona średnia liczba strzałów na bramkę z ostatnich 5 meczów\n",
    "* Ważona średnia liczba goli w ostatnich 5 meczach"
   ]
  },
  {
   "cell_type": "code",
   "execution_count": 2,
   "metadata": {},
   "outputs": [
    {
     "name": "stdout",
     "output_type": "stream",
     "text": [
      "(6080, 62)\n"
     ]
    }
   ],
   "source": [
    "model_data = pd.read_csv('learning_vectors/v05/version5-complete.csv', sep=',')\n",
    "\n",
    "# model_data = model_data.set_index(['Match_id'])\n",
    "# model_data = model_data.sort_values(['League_id', 'Date'])\n",
    "# model_data.columns = [\n",
    "#     'League_id', 'Season', 'Stage', 'Date', 'H_team', 'A_team', 'Result',\n",
    "#     'H_Speed', 'H_Pass', 'H_Shoot', 'H_Pressure', 'H_chPass', 'H_chCross', 'H_dAggr', 'H_dWidth',\n",
    "#     'A_Speed', 'A_Pass', 'A_Shoot', 'A_Pressure', 'A_chPass', 'A_chCross', 'A_dAggr', 'A_dWidth',\n",
    "#     'H_age', 'A_age',\n",
    "#     'H_TMV', 'A_TMV',\n",
    "#     'FTHG', 'FTAG', 'HS', 'AS', 'HST', 'AST',\n",
    "#     'H_Form03', 'A_Form03',\n",
    "#     'H_Form05', 'A_Form05',\n",
    "#     'H_MeanShots03', 'A_MeanShots03',\n",
    "#     'H_MeanShots05', 'A_MeanShots05',\n",
    "#     'H_MeanShotsOnTarget03', 'A_MeanShotsOnTarget03',\n",
    "#     'H_MeanShotsOnTarget05', 'A_MeanShotsOnTarget05',\n",
    "#     'H_MeanFullTimeGoals03', 'A_MeanFullTimeGoals03',\n",
    "#     'H_MeanFullTimeGoals05', 'A_MeanFullTimeGoals05',\n",
    "#     'H_WeightedMeanShots03', 'A_WeightedMeanShots03',\n",
    "#     'H_WeightedMeanShots05', 'A_WeightedMeanShots05',\n",
    "#     'H_WeightedMeanShotsOnTarget03', 'A_WeightedMeanShotsOnTarget03',\n",
    "#     'H_WeightedMeanShotsOnTarget05', 'A_WeightedMeanShotsOnTarget05',\n",
    "#     'H_WeightedMeanFullTimeGoals03', 'A_WeightedMeanFullTimeGoals03',\n",
    "#     'H_WeightedMeanFullTimeGoals05', 'A_WeightedMeanFullTimeGoals05'\n",
    "# ]\n",
    "\n",
    "print(model_data.shape)\n",
    "# model_data.head()\n"
   ]
  },
  {
   "cell_type": "markdown",
   "metadata": {},
   "source": [
    "## Different algorithms comparison"
   ]
  },
  {
   "cell_type": "code",
   "execution_count": 3,
   "metadata": {},
   "outputs": [
    {
     "name": "stdout",
     "output_type": "stream",
     "text": [
      "(6080, 10)\n"
     ]
    },
    {
     "data": {
      "text/html": [
       "<div>\n",
       "<style>\n",
       "    .dataframe thead tr:only-child th {\n",
       "        text-align: right;\n",
       "    }\n",
       "\n",
       "    .dataframe thead th {\n",
       "        text-align: left;\n",
       "    }\n",
       "\n",
       "    .dataframe tbody tr th {\n",
       "        vertical-align: top;\n",
       "    }\n",
       "</style>\n",
       "<table border=\"1\" class=\"dataframe\">\n",
       "  <thead>\n",
       "    <tr style=\"text-align: right;\">\n",
       "      <th></th>\n",
       "      <th>H_TMV</th>\n",
       "      <th>A_TMV</th>\n",
       "      <th>H_Form05</th>\n",
       "      <th>A_Form05</th>\n",
       "      <th>H_WeightedMeanShots05</th>\n",
       "      <th>A_WeightedMeanShots05</th>\n",
       "      <th>H_WeightedMeanShotsOnTarget05</th>\n",
       "      <th>A_WeightedMeanShotsOnTarget05</th>\n",
       "      <th>H_WeightedMeanFullTimeGoals05</th>\n",
       "      <th>A_WeightedMeanFullTimeGoals05</th>\n",
       "    </tr>\n",
       "  </thead>\n",
       "  <tbody>\n",
       "    <tr>\n",
       "      <th>0</th>\n",
       "      <td>250.0</td>\n",
       "      <td>64.0</td>\n",
       "      <td>7</td>\n",
       "      <td>1</td>\n",
       "      <td>19.617647</td>\n",
       "      <td>11.823529</td>\n",
       "      <td>11.558824</td>\n",
       "      <td>5.058824</td>\n",
       "      <td>2.000000</td>\n",
       "      <td>0.735294</td>\n",
       "    </tr>\n",
       "    <tr>\n",
       "      <th>1</th>\n",
       "      <td>91.0</td>\n",
       "      <td>257.0</td>\n",
       "      <td>3</td>\n",
       "      <td>12</td>\n",
       "      <td>8.000000</td>\n",
       "      <td>17.882353</td>\n",
       "      <td>4.235294</td>\n",
       "      <td>9.529412</td>\n",
       "      <td>0.558824</td>\n",
       "      <td>1.764706</td>\n",
       "    </tr>\n",
       "    <tr>\n",
       "      <th>2</th>\n",
       "      <td>80.0</td>\n",
       "      <td>61.0</td>\n",
       "      <td>5</td>\n",
       "      <td>5</td>\n",
       "      <td>13.558824</td>\n",
       "      <td>17.264706</td>\n",
       "      <td>8.058824</td>\n",
       "      <td>9.176471</td>\n",
       "      <td>1.029412</td>\n",
       "      <td>1.117647</td>\n",
       "    </tr>\n",
       "    <tr>\n",
       "      <th>3</th>\n",
       "      <td>162.0</td>\n",
       "      <td>86.0</td>\n",
       "      <td>10</td>\n",
       "      <td>4</td>\n",
       "      <td>13.088235</td>\n",
       "      <td>13.911765</td>\n",
       "      <td>6.941176</td>\n",
       "      <td>7.764706</td>\n",
       "      <td>1.882353</td>\n",
       "      <td>2.058824</td>\n",
       "    </tr>\n",
       "    <tr>\n",
       "      <th>4</th>\n",
       "      <td>73.0</td>\n",
       "      <td>212.0</td>\n",
       "      <td>11</td>\n",
       "      <td>7</td>\n",
       "      <td>13.058824</td>\n",
       "      <td>10.735294</td>\n",
       "      <td>7.558824</td>\n",
       "      <td>6.382353</td>\n",
       "      <td>1.941176</td>\n",
       "      <td>2.411765</td>\n",
       "    </tr>\n",
       "  </tbody>\n",
       "</table>\n",
       "</div>"
      ],
      "text/plain": [
       "   H_TMV  A_TMV  H_Form05  A_Form05  H_WeightedMeanShots05  \\\n",
       "0  250.0   64.0         7         1              19.617647   \n",
       "1   91.0  257.0         3        12               8.000000   \n",
       "2   80.0   61.0         5         5              13.558824   \n",
       "3  162.0   86.0        10         4              13.088235   \n",
       "4   73.0  212.0        11         7              13.058824   \n",
       "\n",
       "   A_WeightedMeanShots05  H_WeightedMeanShotsOnTarget05  \\\n",
       "0              11.823529                      11.558824   \n",
       "1              17.882353                       4.235294   \n",
       "2              17.264706                       8.058824   \n",
       "3              13.911765                       6.941176   \n",
       "4              10.735294                       7.558824   \n",
       "\n",
       "   A_WeightedMeanShotsOnTarget05  H_WeightedMeanFullTimeGoals05  \\\n",
       "0                       5.058824                       2.000000   \n",
       "1                       9.529412                       0.558824   \n",
       "2                       9.176471                       1.029412   \n",
       "3                       7.764706                       1.882353   \n",
       "4                       6.382353                       1.941176   \n",
       "\n",
       "   A_WeightedMeanFullTimeGoals05  \n",
       "0                       0.735294  \n",
       "1                       1.764706  \n",
       "2                       1.117647  \n",
       "3                       2.058824  \n",
       "4                       2.411765  "
      ]
     },
     "execution_count": 3,
     "metadata": {},
     "output_type": "execute_result"
    }
   ],
   "source": [
    "features = [\n",
    "    'H_TMV', 'A_TMV',\n",
    "    'H_Form05', 'A_Form05',\n",
    "    'H_WeightedMeanShots05', 'A_WeightedMeanShots05',\n",
    "    'H_WeightedMeanShotsOnTarget05', 'A_WeightedMeanShotsOnTarget05',\n",
    "    'H_WeightedMeanFullTimeGoals05', 'A_WeightedMeanFullTimeGoals05'\n",
    "]\n",
    "\n",
    "cross_validator = model_selection.KFold(n_splits=4, shuffle=True)\n",
    "scoring_type = 'accuracy'\n",
    "\n",
    "f = open('results_vFINAL.txt','w')\n",
    "\n",
    "print(model_data[features].shape)\n",
    "model_data[features].head()\n"
   ]
  },
  {
   "cell_type": "code",
   "execution_count": 4,
   "metadata": {},
   "outputs": [],
   "source": [
    "ALGS = [\n",
    "    ('LR', LogisticRegression()),\n",
    "    ('LDA', LinearDiscriminantAnalysis()),\n",
    "    ('KNN', KNeighborsClassifier()),\n",
    "    ('CART', DecisionTreeClassifier()),\n",
    "    ('NB', GaussianNB()),\n",
    "    ('SVM', SVC())\n",
    "]\n",
    "\n",
    "def compare_algs(X, y, cross_validator, scoring_type, title=\"-- Other comparison --\"):\n",
    "    \n",
    "    print (title)\n",
    "    f.write(title+\"\\n\")\n",
    "\n",
    "    topic = \"Algo: \\tres.mean: \\tres.std:\"\n",
    "    print (topic)\n",
    "    f.write(topic+\"\\n\")\n",
    "    \n",
    "    results = []\n",
    "    names = []\n",
    "    for name, model in ALGS:\n",
    "        result = model_selection.cross_val_score(model, X, y,\n",
    "                                              cv=cross_validator,\n",
    "                                              scoring=scoring_type)\n",
    "        results.append(result)\n",
    "        names.append(name)\n",
    "        info = \"%s  \\t%f \\t(%f)\" % (name, result.mean(), result.std())\n",
    "        f.write(info+\"\\n\")\n",
    "        print(info)\n",
    "\n",
    "    f.write(\"\\n\\n\")\n",
    "\n",
    "    fig = plt.figure()\n",
    "    ax = fig.add_subplot(111)\n",
    "    plt.boxplot(results)\n",
    "    ax.set_xticklabels(names)\n",
    "    plt.show()\n"
   ]
  },
  {
   "cell_type": "markdown",
   "metadata": {},
   "source": [
    "### Basic compraison: "
   ]
  },
  {
   "cell_type": "code",
   "execution_count": 5,
   "metadata": {},
   "outputs": [
    {
     "name": "stdout",
     "output_type": "stream",
     "text": [
      "--- Basic comparison of algorithms  ---\n",
      "Algo: \tres.mean: \tres.std:\n",
      "LR  \t0.535362 \t(0.013087)\n",
      "LDA  \t0.532401 \t(0.016659)\n",
      "KNN  \t0.477138 \t(0.003733)\n",
      "CART  \t0.420066 \t(0.007537)\n",
      "NB  \t0.510362 \t(0.005551)\n",
      "SVM  \t0.466776 \t(0.009122)\n"
     ]
    },
    {
     "data": {
      "image/png": "[encoded data removed]",
      "text/plain": [
       "<matplotlib.figure.Figure at 0x105e86ed0>"
      ]
     },
     "metadata": {},
     "output_type": "display_data"
    }
   ],
   "source": [
    "X = model_data[features]\n",
    "y = model_data['Result']\n",
    "\n",
    "title = \"--- Basic comparison of algorithms  ---\"\n",
    "\n",
    "compare_algs(X, y, cross_validator, scoring_type, title)\n"
   ]
  },
  {
   "cell_type": "markdown",
   "metadata": {},
   "source": [
    "### Basic comparison with preprocessing:"
   ]
  },
  {
   "cell_type": "code",
   "execution_count": 6,
   "metadata": {},
   "outputs": [
    {
     "name": "stdout",
     "output_type": "stream",
     "text": [
      "--- Basic comparison with preprocessing  ---\n",
      "Algo: \tres.mean: \tres.std:\n",
      "LR  \t0.536842 \t(0.012833)\n",
      "LDA  \t0.534704 \t(0.008022)\n",
      "KNN  \t0.476151 \t(0.005061)\n",
      "CART  \t0.424507 \t(0.023493)\n",
      "NB  \t0.512664 \t(0.006196)\n",
      "SVM  \t0.533553 \t(0.011888)\n"
     ]
    },
    {
     "data": {
      "image/png": "[encoded data removed]",
      "text/plain": [
       "<matplotlib.figure.Figure at 0x10ad61c90>"
      ]
     },
     "metadata": {},
     "output_type": "display_data"
    }
   ],
   "source": [
    "X = preprocessing.scale(model_data[features])\n",
    "y = model_data['Result']\n",
    "\n",
    "title = \"--- Basic comparison with preprocessing  ---\"\n",
    "\n",
    "compare_algs(X, y, cross_validator, scoring_type, title)"
   ]
  },
  {
   "cell_type": "markdown",
   "metadata": {},
   "source": [
    "### Other comparisons:"
   ]
  },
  {
   "cell_type": "code",
   "execution_count": 7,
   "metadata": {},
   "outputs": [
    {
     "name": "stdout",
     "output_type": "stream",
     "text": [
      "-- Other comparison --\n"
     ]
    },
    {
     "ename": "AttributeError",
     "evalue": "'list' object has no attribute 'write'",
     "output_type": "error",
     "traceback": [
      "\u001b[0;31m---------------------------------------------------------------------------\u001b[0m",
      "\u001b[0;31mAttributeError\u001b[0m                            Traceback (most recent call last)",
      "\u001b[0;32m<ipython-input-7-10360ba80b84>\u001b[0m in \u001b[0;36m<module>\u001b[0;34m()\u001b[0m\n\u001b[1;32m     23\u001b[0m \u001b[0my\u001b[0m \u001b[0;34m=\u001b[0m \u001b[0mmodel_data\u001b[0m\u001b[0;34m[\u001b[0m\u001b[0;34m'Result'\u001b[0m\u001b[0;34m]\u001b[0m\u001b[0;34m\u001b[0m\u001b[0m\n\u001b[1;32m     24\u001b[0m \u001b[0;34m\u001b[0m\u001b[0m\n\u001b[0;32m---> 25\u001b[0;31m \u001b[0mcompare_algs\u001b[0m\u001b[0;34m(\u001b[0m\u001b[0mX\u001b[0m\u001b[0;34m,\u001b[0m \u001b[0my\u001b[0m\u001b[0;34m,\u001b[0m \u001b[0mcross_validator\u001b[0m\u001b[0;34m,\u001b[0m \u001b[0mscoring_type\u001b[0m\u001b[0;34m)\u001b[0m\u001b[0;34m\u001b[0m\u001b[0m\n\u001b[0m",
      "\u001b[0;32m<ipython-input-4-a50a0582ac81>\u001b[0m in \u001b[0;36mcompare_algs\u001b[0;34m(X, y, cross_validator, scoring_type, title)\u001b[0m\n\u001b[1;32m     11\u001b[0m \u001b[0;34m\u001b[0m\u001b[0m\n\u001b[1;32m     12\u001b[0m     \u001b[0;32mprint\u001b[0m \u001b[0;34m(\u001b[0m\u001b[0mtitle\u001b[0m\u001b[0;34m)\u001b[0m\u001b[0;34m\u001b[0m\u001b[0m\n\u001b[0;32m---> 13\u001b[0;31m     \u001b[0mf\u001b[0m\u001b[0;34m.\u001b[0m\u001b[0mwrite\u001b[0m\u001b[0;34m(\u001b[0m\u001b[0mtitle\u001b[0m\u001b[0;34m+\u001b[0m\u001b[0;34m\"\\n\"\u001b[0m\u001b[0;34m)\u001b[0m\u001b[0;34m\u001b[0m\u001b[0m\n\u001b[0m\u001b[1;32m     14\u001b[0m \u001b[0;34m\u001b[0m\u001b[0m\n\u001b[1;32m     15\u001b[0m     \u001b[0mtopic\u001b[0m \u001b[0;34m=\u001b[0m \u001b[0;34m\"Algo: \\tres.mean: \\tres.std:\"\u001b[0m\u001b[0;34m\u001b[0m\u001b[0m\n",
      "\u001b[0;31mAttributeError\u001b[0m: 'list' object has no attribute 'write'"
     ]
    }
   ],
   "source": [
    "f = [\n",
    "    'H_Speed', 'H_Pass', 'H_Shoot', 'H_Pressure', 'H_chPass', 'H_chCross', 'H_dAggr', 'H_dWidth',\n",
    "    'A_Speed', 'A_Pass', 'A_Shoot', 'A_Pressure', 'A_chPass', 'A_chCross', 'A_dAggr', 'A_dWidth',\n",
    "    'H_age', 'A_age',\n",
    "    'H_TMV', 'A_TMV',\n",
    "    'H_Form03', 'A_Form03',\n",
    "    'H_Form05', 'A_Form05',\n",
    "    'H_MeanShots03', 'A_MeanShots03',\n",
    "    'H_MeanShots05', 'A_MeanShots05',\n",
    "    'H_MeanShotsOnTarget03', 'A_MeanShotsOnTarget03',\n",
    "    'H_MeanShotsOnTarget05', 'A_MeanShotsOnTarget05',\n",
    "    'H_MeanFullTimeGoals03', 'A_MeanFullTimeGoals03',\n",
    "    'H_MeanFullTimeGoals05', 'A_MeanFullTimeGoals05',\n",
    "    'H_WeightedMeanShots03', 'A_WeightedMeanShots03',\n",
    "    'H_WeightedMeanShots05', 'A_WeightedMeanShots05',\n",
    "    'H_WeightedMeanShotsOnTarget03', 'A_WeightedMeanShotsOnTarget03',\n",
    "    'H_WeightedMeanShotsOnTarget05', 'A_WeightedMeanShotsOnTarget05',\n",
    "    'H_WeightedMeanFullTimeGoals03', 'A_WeightedMeanFullTimeGoals03',\n",
    "    'H_WeightedMeanFullTimeGoals05', 'A_WeightedMeanFullTimeGoals05'\n",
    "]\n",
    "\n",
    "X = preprocessing.scale(model_data[f])\n",
    "y = model_data['Result']\n",
    "\n",
    "compare_algs(X, y, cross_validator, scoring_type)"
   ]
  },
  {
   "cell_type": "code",
   "execution_count": null,
   "metadata": {},
   "outputs": [],
   "source": []
  }
 ],
 "metadata": {
  "kernelspec": {
   "display_name": "Python 2",
   "language": "python",
   "name": "python2"
  },
  "language_info": {
   "codemirror_mode": {
    "name": "ipython",
    "version": 2
   },
   "file_extension": ".py",
   "mimetype": "text/x-python",
   "name": "python",
   "nbconvert_exporter": "python",
   "pygments_lexer": "ipython2",
   "version": "2.7.10"
  }
 },
 "nbformat": 4,
 "nbformat_minor": 2
}
